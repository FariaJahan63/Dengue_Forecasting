{
  "nbformat": 4,
  "nbformat_minor": 0,
  "metadata": {
    "colab": {
      "provenance": [],
      "authorship_tag": "ABX9TyPS3M1kImXBbN2wUHZ8+T8D",
      "include_colab_link": true
    },
    "kernelspec": {
      "name": "python3",
      "display_name": "Python 3"
    },
    "language_info": {
      "name": "python"
    }
  },
  "cells": [
    {
      "cell_type": "markdown",
      "metadata": {
        "id": "view-in-github",
        "colab_type": "text"
      },
      "source": [
        "<a href=\"https://colab.research.google.com/github/FariaJahan63/Dengue_Forecasting/blob/master/Time__Series__Dengue_Forecasting_Sarima_model.ipynb\" target=\"_parent\"><img src=\"https://colab.research.google.com/assets/colab-badge.svg\" alt=\"Open In Colab\"/></a>"
      ]
    },
    {
      "cell_type": "code",
      "execution_count": null,
      "metadata": {
        "id": "KHmCqb4pP1eR"
      },
      "outputs": [],
      "source": [
        "import numpy as np\n",
        "import pandas as pd\n",
        "import seaborn as sns\n",
        "%matplotlib inline\n",
        "import matplotlib.pyplot as plt\n",
        "import warnings\n",
        "warnings.filterwarnings(\"ignore\")"
      ]
    },
    {
      "cell_type": "code",
      "source": [
        "import numpy as np\n",
        "df=pd.read_csv(\"/content/DengueAndClimateBangladesh.csv\")\n",
        "print(df.head())"
      ],
      "metadata": {
        "colab": {
          "base_uri": "https://localhost:8080/"
        },
        "id": "CflQjnrFQAh0",
        "outputId": "0b7c3387-c699-430e-f52b-cc155bef6c8b"
      },
      "execution_count": null,
      "outputs": [
        {
          "output_type": "stream",
          "name": "stdout",
          "text": [
            "   YEAR  MONTH        MIN        MAX   HUMIDITY  RAINFALL  DENGUE\n",
            "0  2008      1  12.993929  25.059539  78.824885  1.286636       0\n",
            "1  2008      2  13.658286  26.383448  72.602956  0.687685       0\n",
            "2  2008      3  20.411250  31.367558  76.903226  0.974194       0\n",
            "3  2008      4  22.771889  34.031619  73.943810  0.980952       0\n",
            "4  2008      5  23.945625  34.171060  77.360369  7.021198       0\n"
          ]
        }
      ]
    },
    {
      "cell_type": "code",
      "source": [
        "df.describe()"
      ],
      "metadata": {
        "colab": {
          "base_uri": "https://localhost:8080/",
          "height": 300
        },
        "id": "Y5yFgZhIQCsW",
        "outputId": "ab3f0522-3820-4912-f88b-749687fb7eda"
      },
      "execution_count": null,
      "outputs": [
        {
          "output_type": "execute_result",
          "data": {
            "text/plain": [
              "              YEAR       MONTH         MIN         MAX    HUMIDITY  \\\n",
              "count   134.000000  134.000000  134.000000  134.000000  134.000000   \n",
              "mean   2013.089552    6.425373   20.943415   30.848480   80.115577   \n",
              "std       3.233896    3.493015    4.830249    2.851090    5.253859   \n",
              "min    2008.000000    1.000000   10.597946   23.522676   67.548387   \n",
              "25%    2010.000000    3.000000   16.404490   29.277935   77.188214   \n",
              "50%    2013.000000    6.000000   22.935495   31.987028   80.093810   \n",
              "75%    2016.000000    9.000000   25.278970   32.676912   84.778111   \n",
              "max    2019.000000   12.000000   26.485821   35.769333   88.384071   \n",
              "\n",
              "         RAINFALL       DENGUE  \n",
              "count  134.000000   134.000000  \n",
              "mean    27.840582   211.582090  \n",
              "std     98.393795   451.214606  \n",
              "min      0.000000     0.000000  \n",
              "25%      0.547765     0.000000  \n",
              "50%      6.008095    36.000000  \n",
              "75%     12.774048   187.000000  \n",
              "max    689.161290  3087.000000  "
            ],
            "text/html": [
              "\n",
              "  <div id=\"df-d9eb9d0a-9c91-469b-a396-2b359779f9a6\" class=\"colab-df-container\">\n",
              "    <div>\n",
              "<style scoped>\n",
              "    .dataframe tbody tr th:only-of-type {\n",
              "        vertical-align: middle;\n",
              "    }\n",
              "\n",
              "    .dataframe tbody tr th {\n",
              "        vertical-align: top;\n",
              "    }\n",
              "\n",
              "    .dataframe thead th {\n",
              "        text-align: right;\n",
              "    }\n",
              "</style>\n",
              "<table border=\"1\" class=\"dataframe\">\n",
              "  <thead>\n",
              "    <tr style=\"text-align: right;\">\n",
              "      <th></th>\n",
              "      <th>YEAR</th>\n",
              "      <th>MONTH</th>\n",
              "      <th>MIN</th>\n",
              "      <th>MAX</th>\n",
              "      <th>HUMIDITY</th>\n",
              "      <th>RAINFALL</th>\n",
              "      <th>DENGUE</th>\n",
              "    </tr>\n",
              "  </thead>\n",
              "  <tbody>\n",
              "    <tr>\n",
              "      <th>count</th>\n",
              "      <td>134.000000</td>\n",
              "      <td>134.000000</td>\n",
              "      <td>134.000000</td>\n",
              "      <td>134.000000</td>\n",
              "      <td>134.000000</td>\n",
              "      <td>134.000000</td>\n",
              "      <td>134.000000</td>\n",
              "    </tr>\n",
              "    <tr>\n",
              "      <th>mean</th>\n",
              "      <td>2013.089552</td>\n",
              "      <td>6.425373</td>\n",
              "      <td>20.943415</td>\n",
              "      <td>30.848480</td>\n",
              "      <td>80.115577</td>\n",
              "      <td>27.840582</td>\n",
              "      <td>211.582090</td>\n",
              "    </tr>\n",
              "    <tr>\n",
              "      <th>std</th>\n",
              "      <td>3.233896</td>\n",
              "      <td>3.493015</td>\n",
              "      <td>4.830249</td>\n",
              "      <td>2.851090</td>\n",
              "      <td>5.253859</td>\n",
              "      <td>98.393795</td>\n",
              "      <td>451.214606</td>\n",
              "    </tr>\n",
              "    <tr>\n",
              "      <th>min</th>\n",
              "      <td>2008.000000</td>\n",
              "      <td>1.000000</td>\n",
              "      <td>10.597946</td>\n",
              "      <td>23.522676</td>\n",
              "      <td>67.548387</td>\n",
              "      <td>0.000000</td>\n",
              "      <td>0.000000</td>\n",
              "    </tr>\n",
              "    <tr>\n",
              "      <th>25%</th>\n",
              "      <td>2010.000000</td>\n",
              "      <td>3.000000</td>\n",
              "      <td>16.404490</td>\n",
              "      <td>29.277935</td>\n",
              "      <td>77.188214</td>\n",
              "      <td>0.547765</td>\n",
              "      <td>0.000000</td>\n",
              "    </tr>\n",
              "    <tr>\n",
              "      <th>50%</th>\n",
              "      <td>2013.000000</td>\n",
              "      <td>6.000000</td>\n",
              "      <td>22.935495</td>\n",
              "      <td>31.987028</td>\n",
              "      <td>80.093810</td>\n",
              "      <td>6.008095</td>\n",
              "      <td>36.000000</td>\n",
              "    </tr>\n",
              "    <tr>\n",
              "      <th>75%</th>\n",
              "      <td>2016.000000</td>\n",
              "      <td>9.000000</td>\n",
              "      <td>25.278970</td>\n",
              "      <td>32.676912</td>\n",
              "      <td>84.778111</td>\n",
              "      <td>12.774048</td>\n",
              "      <td>187.000000</td>\n",
              "    </tr>\n",
              "    <tr>\n",
              "      <th>max</th>\n",
              "      <td>2019.000000</td>\n",
              "      <td>12.000000</td>\n",
              "      <td>26.485821</td>\n",
              "      <td>35.769333</td>\n",
              "      <td>88.384071</td>\n",
              "      <td>689.161290</td>\n",
              "      <td>3087.000000</td>\n",
              "    </tr>\n",
              "  </tbody>\n",
              "</table>\n",
              "</div>\n",
              "    <div class=\"colab-df-buttons\">\n",
              "\n",
              "  <div class=\"colab-df-container\">\n",
              "    <button class=\"colab-df-convert\" onclick=\"convertToInteractive('df-d9eb9d0a-9c91-469b-a396-2b359779f9a6')\"\n",
              "            title=\"Convert this dataframe to an interactive table.\"\n",
              "            style=\"display:none;\">\n",
              "\n",
              "  <svg xmlns=\"http://www.w3.org/2000/svg\" height=\"24px\" viewBox=\"0 -960 960 960\">\n",
              "    <path d=\"M120-120v-720h720v720H120Zm60-500h600v-160H180v160Zm220 220h160v-160H400v160Zm0 220h160v-160H400v160ZM180-400h160v-160H180v160Zm440 0h160v-160H620v160ZM180-180h160v-160H180v160Zm440 0h160v-160H620v160Z\"/>\n",
              "  </svg>\n",
              "    </button>\n",
              "\n",
              "  <style>\n",
              "    .colab-df-container {\n",
              "      display:flex;\n",
              "      gap: 12px;\n",
              "    }\n",
              "\n",
              "    .colab-df-convert {\n",
              "      background-color: #E8F0FE;\n",
              "      border: none;\n",
              "      border-radius: 50%;\n",
              "      cursor: pointer;\n",
              "      display: none;\n",
              "      fill: #1967D2;\n",
              "      height: 32px;\n",
              "      padding: 0 0 0 0;\n",
              "      width: 32px;\n",
              "    }\n",
              "\n",
              "    .colab-df-convert:hover {\n",
              "      background-color: #E2EBFA;\n",
              "      box-shadow: 0px 1px 2px rgba(60, 64, 67, 0.3), 0px 1px 3px 1px rgba(60, 64, 67, 0.15);\n",
              "      fill: #174EA6;\n",
              "    }\n",
              "\n",
              "    .colab-df-buttons div {\n",
              "      margin-bottom: 4px;\n",
              "    }\n",
              "\n",
              "    [theme=dark] .colab-df-convert {\n",
              "      background-color: #3B4455;\n",
              "      fill: #D2E3FC;\n",
              "    }\n",
              "\n",
              "    [theme=dark] .colab-df-convert:hover {\n",
              "      background-color: #434B5C;\n",
              "      box-shadow: 0px 1px 3px 1px rgba(0, 0, 0, 0.15);\n",
              "      filter: drop-shadow(0px 1px 2px rgba(0, 0, 0, 0.3));\n",
              "      fill: #FFFFFF;\n",
              "    }\n",
              "  </style>\n",
              "\n",
              "    <script>\n",
              "      const buttonEl =\n",
              "        document.querySelector('#df-d9eb9d0a-9c91-469b-a396-2b359779f9a6 button.colab-df-convert');\n",
              "      buttonEl.style.display =\n",
              "        google.colab.kernel.accessAllowed ? 'block' : 'none';\n",
              "\n",
              "      async function convertToInteractive(key) {\n",
              "        const element = document.querySelector('#df-d9eb9d0a-9c91-469b-a396-2b359779f9a6');\n",
              "        const dataTable =\n",
              "          await google.colab.kernel.invokeFunction('convertToInteractive',\n",
              "                                                    [key], {});\n",
              "        if (!dataTable) return;\n",
              "\n",
              "        const docLinkHtml = 'Like what you see? Visit the ' +\n",
              "          '<a target=\"_blank\" href=https://colab.research.google.com/notebooks/data_table.ipynb>data table notebook</a>'\n",
              "          + ' to learn more about interactive tables.';\n",
              "        element.innerHTML = '';\n",
              "        dataTable['output_type'] = 'display_data';\n",
              "        await google.colab.output.renderOutput(dataTable, element);\n",
              "        const docLink = document.createElement('div');\n",
              "        docLink.innerHTML = docLinkHtml;\n",
              "        element.appendChild(docLink);\n",
              "      }\n",
              "    </script>\n",
              "  </div>\n",
              "\n",
              "\n",
              "<div id=\"df-86b01d3e-8125-4c2e-83ad-f2aed53b6984\">\n",
              "  <button class=\"colab-df-quickchart\" onclick=\"quickchart('df-86b01d3e-8125-4c2e-83ad-f2aed53b6984')\"\n",
              "            title=\"Suggest charts\"\n",
              "            style=\"display:none;\">\n",
              "\n",
              "<svg xmlns=\"http://www.w3.org/2000/svg\" height=\"24px\"viewBox=\"0 0 24 24\"\n",
              "     width=\"24px\">\n",
              "    <g>\n",
              "        <path d=\"M19 3H5c-1.1 0-2 .9-2 2v14c0 1.1.9 2 2 2h14c1.1 0 2-.9 2-2V5c0-1.1-.9-2-2-2zM9 17H7v-7h2v7zm4 0h-2V7h2v10zm4 0h-2v-4h2v4z\"/>\n",
              "    </g>\n",
              "</svg>\n",
              "  </button>\n",
              "\n",
              "<style>\n",
              "  .colab-df-quickchart {\n",
              "      --bg-color: #E8F0FE;\n",
              "      --fill-color: #1967D2;\n",
              "      --hover-bg-color: #E2EBFA;\n",
              "      --hover-fill-color: #174EA6;\n",
              "      --disabled-fill-color: #AAA;\n",
              "      --disabled-bg-color: #DDD;\n",
              "  }\n",
              "\n",
              "  [theme=dark] .colab-df-quickchart {\n",
              "      --bg-color: #3B4455;\n",
              "      --fill-color: #D2E3FC;\n",
              "      --hover-bg-color: #434B5C;\n",
              "      --hover-fill-color: #FFFFFF;\n",
              "      --disabled-bg-color: #3B4455;\n",
              "      --disabled-fill-color: #666;\n",
              "  }\n",
              "\n",
              "  .colab-df-quickchart {\n",
              "    background-color: var(--bg-color);\n",
              "    border: none;\n",
              "    border-radius: 50%;\n",
              "    cursor: pointer;\n",
              "    display: none;\n",
              "    fill: var(--fill-color);\n",
              "    height: 32px;\n",
              "    padding: 0;\n",
              "    width: 32px;\n",
              "  }\n",
              "\n",
              "  .colab-df-quickchart:hover {\n",
              "    background-color: var(--hover-bg-color);\n",
              "    box-shadow: 0 1px 2px rgba(60, 64, 67, 0.3), 0 1px 3px 1px rgba(60, 64, 67, 0.15);\n",
              "    fill: var(--button-hover-fill-color);\n",
              "  }\n",
              "\n",
              "  .colab-df-quickchart-complete:disabled,\n",
              "  .colab-df-quickchart-complete:disabled:hover {\n",
              "    background-color: var(--disabled-bg-color);\n",
              "    fill: var(--disabled-fill-color);\n",
              "    box-shadow: none;\n",
              "  }\n",
              "\n",
              "  .colab-df-spinner {\n",
              "    border: 2px solid var(--fill-color);\n",
              "    border-color: transparent;\n",
              "    border-bottom-color: var(--fill-color);\n",
              "    animation:\n",
              "      spin 1s steps(1) infinite;\n",
              "  }\n",
              "\n",
              "  @keyframes spin {\n",
              "    0% {\n",
              "      border-color: transparent;\n",
              "      border-bottom-color: var(--fill-color);\n",
              "      border-left-color: var(--fill-color);\n",
              "    }\n",
              "    20% {\n",
              "      border-color: transparent;\n",
              "      border-left-color: var(--fill-color);\n",
              "      border-top-color: var(--fill-color);\n",
              "    }\n",
              "    30% {\n",
              "      border-color: transparent;\n",
              "      border-left-color: var(--fill-color);\n",
              "      border-top-color: var(--fill-color);\n",
              "      border-right-color: var(--fill-color);\n",
              "    }\n",
              "    40% {\n",
              "      border-color: transparent;\n",
              "      border-right-color: var(--fill-color);\n",
              "      border-top-color: var(--fill-color);\n",
              "    }\n",
              "    60% {\n",
              "      border-color: transparent;\n",
              "      border-right-color: var(--fill-color);\n",
              "    }\n",
              "    80% {\n",
              "      border-color: transparent;\n",
              "      border-right-color: var(--fill-color);\n",
              "      border-bottom-color: var(--fill-color);\n",
              "    }\n",
              "    90% {\n",
              "      border-color: transparent;\n",
              "      border-bottom-color: var(--fill-color);\n",
              "    }\n",
              "  }\n",
              "</style>\n",
              "\n",
              "  <script>\n",
              "    async function quickchart(key) {\n",
              "      const quickchartButtonEl =\n",
              "        document.querySelector('#' + key + ' button');\n",
              "      quickchartButtonEl.disabled = true;  // To prevent multiple clicks.\n",
              "      quickchartButtonEl.classList.add('colab-df-spinner');\n",
              "      try {\n",
              "        const charts = await google.colab.kernel.invokeFunction(\n",
              "            'suggestCharts', [key], {});\n",
              "      } catch (error) {\n",
              "        console.error('Error during call to suggestCharts:', error);\n",
              "      }\n",
              "      quickchartButtonEl.classList.remove('colab-df-spinner');\n",
              "      quickchartButtonEl.classList.add('colab-df-quickchart-complete');\n",
              "    }\n",
              "    (() => {\n",
              "      let quickchartButtonEl =\n",
              "        document.querySelector('#df-86b01d3e-8125-4c2e-83ad-f2aed53b6984 button');\n",
              "      quickchartButtonEl.style.display =\n",
              "        google.colab.kernel.accessAllowed ? 'block' : 'none';\n",
              "    })();\n",
              "  </script>\n",
              "</div>\n",
              "\n",
              "    </div>\n",
              "  </div>\n"
            ],
            "application/vnd.google.colaboratory.intrinsic+json": {
              "type": "dataframe",
              "summary": "{\n  \"name\": \"df\",\n  \"rows\": 8,\n  \"fields\": [\n    {\n      \"column\": \"YEAR\",\n      \"properties\": {\n        \"dtype\": \"number\",\n        \"std\": 900.8429527308282,\n        \"min\": 3.23389633604545,\n        \"max\": 2019.0,\n        \"num_unique_values\": 8,\n        \"samples\": [\n          2013.089552238806,\n          2013.0,\n          134.0\n        ],\n        \"semantic_type\": \"\",\n        \"description\": \"\"\n      }\n    },\n    {\n      \"column\": \"MONTH\",\n      \"properties\": {\n        \"dtype\": \"number\",\n        \"std\": 45.44373483346954,\n        \"min\": 1.0,\n        \"max\": 134.0,\n        \"num_unique_values\": 8,\n        \"samples\": [\n          6.425373134328358,\n          6.0,\n          134.0\n        ],\n        \"semantic_type\": \"\",\n        \"description\": \"\"\n      }\n    },\n    {\n      \"column\": \"MIN\",\n      \"properties\": {\n        \"dtype\": \"number\",\n        \"std\": 41.609933686556076,\n        \"min\": 4.830249347357946,\n        \"max\": 134.0,\n        \"num_unique_values\": 8,\n        \"samples\": [\n          20.943414521791045,\n          22.93549539,\n          134.0\n        ],\n        \"semantic_type\": \"\",\n        \"description\": \"\"\n      }\n    },\n    {\n      \"column\": \"MAX\",\n      \"properties\": {\n        \"dtype\": \"number\",\n        \"std\": 39.31899160210261,\n        \"min\": 2.8510898275554424,\n        \"max\": 134.0,\n        \"num_unique_values\": 8,\n        \"samples\": [\n          30.848480346716425,\n          31.98702765,\n          134.0\n        ],\n        \"semantic_type\": \"\",\n        \"description\": \"\"\n      }\n    },\n    {\n      \"column\": \"HUMIDITY\",\n      \"properties\": {\n        \"dtype\": \"number\",\n        \"std\": 35.24408717316266,\n        \"min\": 5.2538594313479505,\n        \"max\": 134.0,\n        \"num_unique_values\": 8,\n        \"samples\": [\n          80.1155774530597,\n          80.093809525,\n          134.0\n        ],\n        \"semantic_type\": \"\",\n        \"description\": \"\"\n      }\n    },\n    {\n      \"column\": \"RAINFALL\",\n      \"properties\": {\n        \"dtype\": \"number\",\n        \"std\": 234.90169359530202,\n        \"min\": 0.0,\n        \"max\": 689.1612903,\n        \"num_unique_values\": 8,\n        \"samples\": [\n          27.840581732574627,\n          6.008095237999999,\n          134.0\n        ],\n        \"semantic_type\": \"\",\n        \"description\": \"\"\n      }\n    },\n    {\n      \"column\": \"DENGUE\",\n      \"properties\": {\n        \"dtype\": \"number\",\n        \"std\": 1050.4372704404218,\n        \"min\": 0.0,\n        \"max\": 3087.0,\n        \"num_unique_values\": 7,\n        \"samples\": [\n          134.0,\n          211.5820895522388,\n          187.0\n        ],\n        \"semantic_type\": \"\",\n        \"description\": \"\"\n      }\n    }\n  ]\n}"
            }
          },
          "metadata": {},
          "execution_count": 3
        }
      ]
    },
    {
      "cell_type": "code",
      "source": [
        "df.plot()"
      ],
      "metadata": {
        "colab": {
          "base_uri": "https://localhost:8080/",
          "height": 447
        },
        "id": "mOad7JmrQFp3",
        "outputId": "571f3fa6-9246-43f2-e9cf-fe6efa9d2f60"
      },
      "execution_count": null,
      "outputs": [
        {
          "output_type": "execute_result",
          "data": {
            "text/plain": [
              "<Axes: >"
            ]
          },
          "metadata": {},
          "execution_count": 4
        },
        {
          "output_type": "display_data",
          "data": {
            "text/plain": [
              "<Figure size 640x480 with 1 Axes>"
            ],
            "image/png": "[encoded data removed]"
          },
          "metadata": {}
        }
      ]
    },
    {
      "cell_type": "markdown",
      "source": [
        "**T1**\n",
        "\n",
        "Arima Model (https://www.youtube.com/watch?v=-aCF0_wfVwY&t=122s)"
      ],
      "metadata": {
        "id": "GhSHAd6He4xj"
      }
    },
    {
      "cell_type": "markdown",
      "source": [
        "**testing for stationary**"
      ],
      "metadata": {
        "id": "dNTV1D_-QMuv"
      }
    },
    {
      "cell_type": "code",
      "source": [
        "from statsmodels.tsa.stattools import adfuller"
      ],
      "metadata": {
        "id": "S8h0axmQQHhn"
      },
      "execution_count": null,
      "outputs": []
    },
    {
      "cell_type": "code",
      "source": [
        "test_result=adfuller(df['DENGUE'])"
      ],
      "metadata": {
        "id": "4HBi1uDZQV3y"
      },
      "execution_count": null,
      "outputs": []
    },
    {
      "cell_type": "markdown",
      "source": [
        "**Step 1: Check for stationarity of time series**"
      ],
      "metadata": {
        "id": "yNEttowDQnlf"
      }
    },
    {
      "cell_type": "markdown",
      "source": [
        "Checking unit root for stationary and non stationary.\n",
        "\n",
        "If Test statistic < Critical Value and p-value < 0.05 – Reject Null Hypothesis(HO), i.e., time series does not have a unit root, meaning it is stationary"
      ],
      "metadata": {
        "id": "Y74kIDR1QtJt"
      }
    },
    {
      "cell_type": "code",
      "source": [
        "#H0 : Stationary\n",
        "#H1:Non stationary\n",
        "def adfuller_test(DENGUE):\n",
        "  result=adfuller(DENGUE)\n",
        "  labels=['ADF test statistic','p-value','#Lags Used','Number of observations Used']\n",
        "  for value,label in zip(result,labels):\n",
        "    print(label+' : '+str(value) )\n",
        "  if result[1]<=0.05:\n",
        "    print(\"strong evidence againt null hypothsis H0,reject all the null hypothesis.\")\n",
        "  else:\n",
        "    print(\"weak evidence against null hypothesis.Time series has a unit root,indicating it is non-stationary\")"
      ],
      "metadata": {
        "id": "cdMj_GnPQkMH"
      },
      "execution_count": null,
      "outputs": []
    },
    {
      "cell_type": "code",
      "source": [
        "adfuller_test(df['DENGUE'])"
      ],
      "metadata": {
        "colab": {
          "base_uri": "https://localhost:8080/"
        },
        "id": "5VtNKQlEQ0hw",
        "outputId": "f16af0e1-fc65-49ed-b620-c42c7707c286"
      },
      "execution_count": null,
      "outputs": [
        {
          "output_type": "stream",
          "name": "stdout",
          "text": [
            "ADF test statistic : -0.6820036298856035\n",
            "p-value : 0.851356098408988\n",
            "#Lags Used : 9\n",
            "Number of observations Used : 124\n",
            "weak evidence against null hypothesis.Time series has a unit root,indicating it is non-stationary\n"
          ]
        }
      ]
    },
    {
      "cell_type": "markdown",
      "source": [
        "**Transform to stationary: differencing**"
      ],
      "metadata": {
        "id": "hdQbC4yzQ8Ml"
      }
    },
    {
      "cell_type": "code",
      "source": [
        "df['DENGUE first difference']=df['DENGUE']-df['DENGUE'].shift(1)\n",
        "df['Seasonal first difference']=df['DENGUE']-df['DENGUE'].shift(12)"
      ],
      "metadata": {
        "id": "NEHyAT92Q3_E"
      },
      "execution_count": null,
      "outputs": []
    },
    {
      "cell_type": "code",
      "source": [
        "df.head(20)"
      ],
      "metadata": {
        "colab": {
          "base_uri": "https://localhost:8080/",
          "height": 677
        },
        "id": "q9ur5VuJRCS4",
        "outputId": "6777aa1a-9b9d-4f1e-a612-af36738bad96"
      },
      "execution_count": null,
      "outputs": [
        {
          "output_type": "execute_result",
          "data": {
            "text/plain": [
              "    YEAR  MONTH        MIN        MAX   HUMIDITY   RAINFALL  DENGUE  \\\n",
              "0   2008      1  12.993929  25.059539  78.824885   1.286636       0   \n",
              "1   2008      2  13.658286  26.383448  72.602956   0.687685       0   \n",
              "2   2008      3  20.411250  31.367558  76.903226   0.974194       0   \n",
              "3   2008      4  22.771889  34.031619  73.943810   0.980952       0   \n",
              "4   2008      5  23.945625  34.171060  77.360369   7.021198       0   \n",
              "5   2008      6  24.959447  31.764118  85.682857  14.016190       0   \n",
              "6   2008      7  25.069554  31.133180  88.057143  22.565899     160   \n",
              "7   2008      8  25.278214  31.657972  86.810138  13.908756     473   \n",
              "8   2008      9  25.075392  32.367429  85.155238   9.107619     334   \n",
              "9   2008     10  22.945000  31.546267  83.882028   7.332719     184   \n",
              "10  2008     11  18.127005  29.919314  78.747619   0.114286       0   \n",
              "11  2008     12  15.921232  26.389862  83.570507   0.001843       0   \n",
              "12  2009      1  13.418661  26.196221  79.563134   0.004608       0   \n",
              "13  2009      2  15.090264  29.649898  70.277551   0.091837       0   \n",
              "14  2009      3  19.581158  32.608940  70.321659   0.517972       0   \n",
              "15  2009      4  23.824763  34.407048  75.205714   2.528571       0   \n",
              "16  2009      5  24.189299  33.821106  78.283871   8.922581       1   \n",
              "17  2009      6  25.490512  33.835686  81.629524   8.685714       0   \n",
              "18  2009      7  25.462316  31.914706  86.428571  19.676498       4   \n",
              "19  2009      8  25.414246  31.985484  87.544700  17.294009     125   \n",
              "\n",
              "    DENGUE first difference  Seasonal first difference  \n",
              "0                       NaN                        NaN  \n",
              "1                       0.0                        NaN  \n",
              "2                       0.0                        NaN  \n",
              "3                       0.0                        NaN  \n",
              "4                       0.0                        NaN  \n",
              "5                       0.0                        NaN  \n",
              "6                     160.0                        NaN  \n",
              "7                     313.0                        NaN  \n",
              "8                    -139.0                        NaN  \n",
              "9                    -150.0                        NaN  \n",
              "10                   -184.0                        NaN  \n",
              "11                      0.0                        NaN  \n",
              "12                      0.0                        0.0  \n",
              "13                      0.0                        0.0  \n",
              "14                      0.0                        0.0  \n",
              "15                      0.0                        0.0  \n",
              "16                      1.0                        1.0  \n",
              "17                     -1.0                        0.0  \n",
              "18                      4.0                     -156.0  \n",
              "19                    121.0                     -348.0  "
            ],
            "text/html": [
              "\n",
              "  <div id=\"df-7442de46-f793-47c4-8803-583eda9e5230\" class=\"colab-df-container\">\n",
              "    <div>\n",
              "<style scoped>\n",
              "    .dataframe tbody tr th:only-of-type {\n",
              "        vertical-align: middle;\n",
              "    }\n",
              "\n",
              "    .dataframe tbody tr th {\n",
              "        vertical-align: top;\n",
              "    }\n",
              "\n",
              "    .dataframe thead th {\n",
              "        text-align: right;\n",
              "    }\n",
              "</style>\n",
              "<table border=\"1\" class=\"dataframe\">\n",
              "  <thead>\n",
              "    <tr style=\"text-align: right;\">\n",
              "      <th></th>\n",
              "      <th>YEAR</th>\n",
              "      <th>MONTH</th>\n",
              "      <th>MIN</th>\n",
              "      <th>MAX</th>\n",
              "      <th>HUMIDITY</th>\n",
              "      <th>RAINFALL</th>\n",
              "      <th>DENGUE</th>\n",
              "      <th>DENGUE first difference</th>\n",
              "      <th>Seasonal first difference</th>\n",
              "    </tr>\n",
              "  </thead>\n",
              "  <tbody>\n",
              "    <tr>\n",
              "      <th>0</th>\n",
              "      <td>2008</td>\n",
              "      <td>1</td>\n",
              "      <td>12.993929</td>\n",
              "      <td>25.059539</td>\n",
              "      <td>78.824885</td>\n",
              "      <td>1.286636</td>\n",
              "      <td>0</td>\n",
              "      <td>NaN</td>\n",
              "      <td>NaN</td>\n",
              "    </tr>\n",
              "    <tr>\n",
              "      <th>1</th>\n",
              "      <td>2008</td>\n",
              "      <td>2</td>\n",
              "      <td>13.658286</td>\n",
              "      <td>26.383448</td>\n",
              "      <td>72.602956</td>\n",
              "      <td>0.687685</td>\n",
              "      <td>0</td>\n",
              "      <td>0.0</td>\n",
              "      <td>NaN</td>\n",
              "    </tr>\n",
              "    <tr>\n",
              "      <th>2</th>\n",
              "      <td>2008</td>\n",
              "      <td>3</td>\n",
              "      <td>20.411250</td>\n",
              "      <td>31.367558</td>\n",
              "      <td>76.903226</td>\n",
              "      <td>0.974194</td>\n",
              "      <td>0</td>\n",
              "      <td>0.0</td>\n",
              "      <td>NaN</td>\n",
              "    </tr>\n",
              "    <tr>\n",
              "      <th>3</th>\n",
              "      <td>2008</td>\n",
              "      <td>4</td>\n",
              "      <td>22.771889</td>\n",
              "      <td>34.031619</td>\n",
              "      <td>73.943810</td>\n",
              "      <td>0.980952</td>\n",
              "      <td>0</td>\n",
              "      <td>0.0</td>\n",
              "      <td>NaN</td>\n",
              "    </tr>\n",
              "    <tr>\n",
              "      <th>4</th>\n",
              "      <td>2008</td>\n",
              "      <td>5</td>\n",
              "      <td>23.945625</td>\n",
              "      <td>34.171060</td>\n",
              "      <td>77.360369</td>\n",
              "      <td>7.021198</td>\n",
              "      <td>0</td>\n",
              "      <td>0.0</td>\n",
              "      <td>NaN</td>\n",
              "    </tr>\n",
              "    <tr>\n",
              "      <th>5</th>\n",
              "      <td>2008</td>\n",
              "      <td>6</td>\n",
              "      <td>24.959447</td>\n",
              "      <td>31.764118</td>\n",
              "      <td>85.682857</td>\n",
              "      <td>14.016190</td>\n",
              "      <td>0</td>\n",
              "      <td>0.0</td>\n",
              "      <td>NaN</td>\n",
              "    </tr>\n",
              "    <tr>\n",
              "      <th>6</th>\n",
              "      <td>2008</td>\n",
              "      <td>7</td>\n",
              "      <td>25.069554</td>\n",
              "      <td>31.133180</td>\n",
              "      <td>88.057143</td>\n",
              "      <td>22.565899</td>\n",
              "      <td>160</td>\n",
              "      <td>160.0</td>\n",
              "      <td>NaN</td>\n",
              "    </tr>\n",
              "    <tr>\n",
              "      <th>7</th>\n",
              "      <td>2008</td>\n",
              "      <td>8</td>\n",
              "      <td>25.278214</td>\n",
              "      <td>31.657972</td>\n",
              "      <td>86.810138</td>\n",
              "      <td>13.908756</td>\n",
              "      <td>473</td>\n",
              "      <td>313.0</td>\n",
              "      <td>NaN</td>\n",
              "    </tr>\n",
              "    <tr>\n",
              "      <th>8</th>\n",
              "      <td>2008</td>\n",
              "      <td>9</td>\n",
              "      <td>25.075392</td>\n",
              "      <td>32.367429</td>\n",
              "      <td>85.155238</td>\n",
              "      <td>9.107619</td>\n",
              "      <td>334</td>\n",
              "      <td>-139.0</td>\n",
              "      <td>NaN</td>\n",
              "    </tr>\n",
              "    <tr>\n",
              "      <th>9</th>\n",
              "      <td>2008</td>\n",
              "      <td>10</td>\n",
              "      <td>22.945000</td>\n",
              "      <td>31.546267</td>\n",
              "      <td>83.882028</td>\n",
              "      <td>7.332719</td>\n",
              "      <td>184</td>\n",
              "      <td>-150.0</td>\n",
              "      <td>NaN</td>\n",
              "    </tr>\n",
              "    <tr>\n",
              "      <th>10</th>\n",
              "      <td>2008</td>\n",
              "      <td>11</td>\n",
              "      <td>18.127005</td>\n",
              "      <td>29.919314</td>\n",
              "      <td>78.747619</td>\n",
              "      <td>0.114286</td>\n",
              "      <td>0</td>\n",
              "      <td>-184.0</td>\n",
              "      <td>NaN</td>\n",
              "    </tr>\n",
              "    <tr>\n",
              "      <th>11</th>\n",
              "      <td>2008</td>\n",
              "      <td>12</td>\n",
              "      <td>15.921232</td>\n",
              "      <td>26.389862</td>\n",
              "      <td>83.570507</td>\n",
              "      <td>0.001843</td>\n",
              "      <td>0</td>\n",
              "      <td>0.0</td>\n",
              "      <td>NaN</td>\n",
              "    </tr>\n",
              "    <tr>\n",
              "      <th>12</th>\n",
              "      <td>2009</td>\n",
              "      <td>1</td>\n",
              "      <td>13.418661</td>\n",
              "      <td>26.196221</td>\n",
              "      <td>79.563134</td>\n",
              "      <td>0.004608</td>\n",
              "      <td>0</td>\n",
              "      <td>0.0</td>\n",
              "      <td>0.0</td>\n",
              "    </tr>\n",
              "    <tr>\n",
              "      <th>13</th>\n",
              "      <td>2009</td>\n",
              "      <td>2</td>\n",
              "      <td>15.090264</td>\n",
              "      <td>29.649898</td>\n",
              "      <td>70.277551</td>\n",
              "      <td>0.091837</td>\n",
              "      <td>0</td>\n",
              "      <td>0.0</td>\n",
              "      <td>0.0</td>\n",
              "    </tr>\n",
              "    <tr>\n",
              "      <th>14</th>\n",
              "      <td>2009</td>\n",
              "      <td>3</td>\n",
              "      <td>19.581158</td>\n",
              "      <td>32.608940</td>\n",
              "      <td>70.321659</td>\n",
              "      <td>0.517972</td>\n",
              "      <td>0</td>\n",
              "      <td>0.0</td>\n",
              "      <td>0.0</td>\n",
              "    </tr>\n",
              "    <tr>\n",
              "      <th>15</th>\n",
              "      <td>2009</td>\n",
              "      <td>4</td>\n",
              "      <td>23.824763</td>\n",
              "      <td>34.407048</td>\n",
              "      <td>75.205714</td>\n",
              "      <td>2.528571</td>\n",
              "      <td>0</td>\n",
              "      <td>0.0</td>\n",
              "      <td>0.0</td>\n",
              "    </tr>\n",
              "    <tr>\n",
              "      <th>16</th>\n",
              "      <td>2009</td>\n",
              "      <td>5</td>\n",
              "      <td>24.189299</td>\n",
              "      <td>33.821106</td>\n",
              "      <td>78.283871</td>\n",
              "      <td>8.922581</td>\n",
              "      <td>1</td>\n",
              "      <td>1.0</td>\n",
              "      <td>1.0</td>\n",
              "    </tr>\n",
              "    <tr>\n",
              "      <th>17</th>\n",
              "      <td>2009</td>\n",
              "      <td>6</td>\n",
              "      <td>25.490512</td>\n",
              "      <td>33.835686</td>\n",
              "      <td>81.629524</td>\n",
              "      <td>8.685714</td>\n",
              "      <td>0</td>\n",
              "      <td>-1.0</td>\n",
              "      <td>0.0</td>\n",
              "    </tr>\n",
              "    <tr>\n",
              "      <th>18</th>\n",
              "      <td>2009</td>\n",
              "      <td>7</td>\n",
              "      <td>25.462316</td>\n",
              "      <td>31.914706</td>\n",
              "      <td>86.428571</td>\n",
              "      <td>19.676498</td>\n",
              "      <td>4</td>\n",
              "      <td>4.0</td>\n",
              "      <td>-156.0</td>\n",
              "    </tr>\n",
              "    <tr>\n",
              "      <th>19</th>\n",
              "      <td>2009</td>\n",
              "      <td>8</td>\n",
              "      <td>25.414246</td>\n",
              "      <td>31.985484</td>\n",
              "      <td>87.544700</td>\n",
              "      <td>17.294009</td>\n",
              "      <td>125</td>\n",
              "      <td>121.0</td>\n",
              "      <td>-348.0</td>\n",
              "    </tr>\n",
              "  </tbody>\n",
              "</table>\n",
              "</div>\n",
              "    <div class=\"colab-df-buttons\">\n",
              "\n",
              "  <div class=\"colab-df-container\">\n",
              "    <button class=\"colab-df-convert\" onclick=\"convertToInteractive('df-7442de46-f793-47c4-8803-583eda9e5230')\"\n",
              "            title=\"Convert this dataframe to an interactive table.\"\n",
              "            style=\"display:none;\">\n",
              "\n",
              "  <svg xmlns=\"http://www.w3.org/2000/svg\" height=\"24px\" viewBox=\"0 -960 960 960\">\n",
              "    <path d=\"M120-120v-720h720v720H120Zm60-500h600v-160H180v160Zm220 220h160v-160H400v160Zm0 220h160v-160H400v160ZM180-400h160v-160H180v160Zm440 0h160v-160H620v160ZM180-180h160v-160H180v160Zm440 0h160v-160H620v160Z\"/>\n",
              "  </svg>\n",
              "    </button>\n",
              "\n",
              "  <style>\n",
              "    .colab-df-container {\n",
              "      display:flex;\n",
              "      gap: 12px;\n",
              "    }\n",
              "\n",
              "    .colab-df-convert {\n",
              "      background-color: #E8F0FE;\n",
              "      border: none;\n",
              "      border-radius: 50%;\n",
              "      cursor: pointer;\n",
              "      display: none;\n",
              "      fill: #1967D2;\n",
              "      height: 32px;\n",
              "      padding: 0 0 0 0;\n",
              "      width: 32px;\n",
              "    }\n",
              "\n",
              "    .colab-df-convert:hover {\n",
              "      background-color: #E2EBFA;\n",
              "      box-shadow: 0px 1px 2px rgba(60, 64, 67, 0.3), 0px 1px 3px 1px rgba(60, 64, 67, 0.15);\n",
              "      fill: #174EA6;\n",
              "    }\n",
              "\n",
              "    .colab-df-buttons div {\n",
              "      margin-bottom: 4px;\n",
              "    }\n",
              "\n",
              "    [theme=dark] .colab-df-convert {\n",
              "      background-color: #3B4455;\n",
              "      fill: #D2E3FC;\n",
              "    }\n",
              "\n",
              "    [theme=dark] .colab-df-convert:hover {\n",
              "      background-color: #434B5C;\n",
              "      box-shadow: 0px 1px 3px 1px rgba(0, 0, 0, 0.15);\n",
              "      filter: drop-shadow(0px 1px 2px rgba(0, 0, 0, 0.3));\n",
              "      fill: #FFFFFF;\n",
              "    }\n",
              "  </style>\n",
              "\n",
              "    <script>\n",
              "      const buttonEl =\n",
              "        document.querySelector('#df-7442de46-f793-47c4-8803-583eda9e5230 button.colab-df-convert');\n",
              "      buttonEl.style.display =\n",
              "        google.colab.kernel.accessAllowed ? 'block' : 'none';\n",
              "\n",
              "      async function convertToInteractive(key) {\n",
              "        const element = document.querySelector('#df-7442de46-f793-47c4-8803-583eda9e5230');\n",
              "        const dataTable =\n",
              "          await google.colab.kernel.invokeFunction('convertToInteractive',\n",
              "                                                    [key], {});\n",
              "        if (!dataTable) return;\n",
              "\n",
              "        const docLinkHtml = 'Like what you see? Visit the ' +\n",
              "          '<a target=\"_blank\" href=https://colab.research.google.com/notebooks/data_table.ipynb>data table notebook</a>'\n",
              "          + ' to learn more about interactive tables.';\n",
              "        element.innerHTML = '';\n",
              "        dataTable['output_type'] = 'display_data';\n",
              "        await google.colab.output.renderOutput(dataTable, element);\n",
              "        const docLink = document.createElement('div');\n",
              "        docLink.innerHTML = docLinkHtml;\n",
              "        element.appendChild(docLink);\n",
              "      }\n",
              "    </script>\n",
              "  </div>\n",
              "\n",
              "\n",
              "<div id=\"df-d84b25c7-d018-430b-b62d-bf9cb59a4def\">\n",
              "  <button class=\"colab-df-quickchart\" onclick=\"quickchart('df-d84b25c7-d018-430b-b62d-bf9cb59a4def')\"\n",
              "            title=\"Suggest charts\"\n",
              "            style=\"display:none;\">\n",
              "\n",
              "<svg xmlns=\"http://www.w3.org/2000/svg\" height=\"24px\"viewBox=\"0 0 24 24\"\n",
              "     width=\"24px\">\n",
              "    <g>\n",
              "        <path d=\"M19 3H5c-1.1 0-2 .9-2 2v14c0 1.1.9 2 2 2h14c1.1 0 2-.9 2-2V5c0-1.1-.9-2-2-2zM9 17H7v-7h2v7zm4 0h-2V7h2v10zm4 0h-2v-4h2v4z\"/>\n",
              "    </g>\n",
              "</svg>\n",
              "  </button>\n",
              "\n",
              "<style>\n",
              "  .colab-df-quickchart {\n",
              "      --bg-color: #E8F0FE;\n",
              "      --fill-color: #1967D2;\n",
              "      --hover-bg-color: #E2EBFA;\n",
              "      --hover-fill-color: #174EA6;\n",
              "      --disabled-fill-color: #AAA;\n",
              "      --disabled-bg-color: #DDD;\n",
              "  }\n",
              "\n",
              "  [theme=dark] .colab-df-quickchart {\n",
              "      --bg-color: #3B4455;\n",
              "      --fill-color: #D2E3FC;\n",
              "      --hover-bg-color: #434B5C;\n",
              "      --hover-fill-color: #FFFFFF;\n",
              "      --disabled-bg-color: #3B4455;\n",
              "      --disabled-fill-color: #666;\n",
              "  }\n",
              "\n",
              "  .colab-df-quickchart {\n",
              "    background-color: var(--bg-color);\n",
              "    border: none;\n",
              "    border-radius: 50%;\n",
              "    cursor: pointer;\n",
              "    display: none;\n",
              "    fill: var(--fill-color);\n",
              "    height: 32px;\n",
              "    padding: 0;\n",
              "    width: 32px;\n",
              "  }\n",
              "\n",
              "  .colab-df-quickchart:hover {\n",
              "    background-color: var(--hover-bg-color);\n",
              "    box-shadow: 0 1px 2px rgba(60, 64, 67, 0.3), 0 1px 3px 1px rgba(60, 64, 67, 0.15);\n",
              "    fill: var(--button-hover-fill-color);\n",
              "  }\n",
              "\n",
              "  .colab-df-quickchart-complete:disabled,\n",
              "  .colab-df-quickchart-complete:disabled:hover {\n",
              "    background-color: var(--disabled-bg-color);\n",
              "    fill: var(--disabled-fill-color);\n",
              "    box-shadow: none;\n",
              "  }\n",
              "\n",
              "  .colab-df-spinner {\n",
              "    border: 2px solid var(--fill-color);\n",
              "    border-color: transparent;\n",
              "    border-bottom-color: var(--fill-color);\n",
              "    animation:\n",
              "      spin 1s steps(1) infinite;\n",
              "  }\n",
              "\n",
              "  @keyframes spin {\n",
              "    0% {\n",
              "      border-color: transparent;\n",
              "      border-bottom-color: var(--fill-color);\n",
              "      border-left-color: var(--fill-color);\n",
              "    }\n",
              "    20% {\n",
              "      border-color: transparent;\n",
              "      border-left-color: var(--fill-color);\n",
              "      border-top-color: var(--fill-color);\n",
              "    }\n",
              "    30% {\n",
              "      border-color: transparent;\n",
              "      border-left-color: var(--fill-color);\n",
              "      border-top-color: var(--fill-color);\n",
              "      border-right-color: var(--fill-color);\n",
              "    }\n",
              "    40% {\n",
              "      border-color: transparent;\n",
              "      border-right-color: var(--fill-color);\n",
              "      border-top-color: var(--fill-color);\n",
              "    }\n",
              "    60% {\n",
              "      border-color: transparent;\n",
              "      border-right-color: var(--fill-color);\n",
              "    }\n",
              "    80% {\n",
              "      border-color: transparent;\n",
              "      border-right-color: var(--fill-color);\n",
              "      border-bottom-color: var(--fill-color);\n",
              "    }\n",
              "    90% {\n",
              "      border-color: transparent;\n",
              "      border-bottom-color: var(--fill-color);\n",
              "    }\n",
              "  }\n",
              "</style>\n",
              "\n",
              "  <script>\n",
              "    async function quickchart(key) {\n",
              "      const quickchartButtonEl =\n",
              "        document.querySelector('#' + key + ' button');\n",
              "      quickchartButtonEl.disabled = true;  // To prevent multiple clicks.\n",
              "      quickchartButtonEl.classList.add('colab-df-spinner');\n",
              "      try {\n",
              "        const charts = await google.colab.kernel.invokeFunction(\n",
              "            'suggestCharts', [key], {});\n",
              "      } catch (error) {\n",
              "        console.error('Error during call to suggestCharts:', error);\n",
              "      }\n",
              "      quickchartButtonEl.classList.remove('colab-df-spinner');\n",
              "      quickchartButtonEl.classList.add('colab-df-quickchart-complete');\n",
              "    }\n",
              "    (() => {\n",
              "      let quickchartButtonEl =\n",
              "        document.querySelector('#df-d84b25c7-d018-430b-b62d-bf9cb59a4def button');\n",
              "      quickchartButtonEl.style.display =\n",
              "        google.colab.kernel.accessAllowed ? 'block' : 'none';\n",
              "    })();\n",
              "  </script>\n",
              "</div>\n",
              "\n",
              "    </div>\n",
              "  </div>\n"
            ],
            "application/vnd.google.colaboratory.intrinsic+json": {
              "type": "dataframe",
              "variable_name": "df",
              "summary": "{\n  \"name\": \"df\",\n  \"rows\": 134,\n  \"fields\": [\n    {\n      \"column\": \"YEAR\",\n      \"properties\": {\n        \"dtype\": \"number\",\n        \"std\": 3,\n        \"min\": 2008,\n        \"max\": 2019,\n        \"num_unique_values\": 12,\n        \"samples\": [\n          2018,\n          2017,\n          2008\n        ],\n        \"semantic_type\": \"\",\n        \"description\": \"\"\n      }\n    },\n    {\n      \"column\": \"MONTH\",\n      \"properties\": {\n        \"dtype\": \"number\",\n        \"std\": 3,\n        \"min\": 1,\n        \"max\": 12,\n        \"num_unique_values\": 12,\n        \"samples\": [\n          11,\n          10,\n          1\n        ],\n        \"semantic_type\": \"\",\n        \"description\": \"\"\n      }\n    },\n    {\n      \"column\": \"MIN\",\n      \"properties\": {\n        \"dtype\": \"number\",\n        \"std\": 4.830249347357946,\n        \"min\": 10.59794643,\n        \"max\": 26.48582146,\n        \"num_unique_values\": 134,\n        \"samples\": [\n          26.48582146,\n          25.62991071,\n          25.44248848\n        ],\n        \"semantic_type\": \"\",\n        \"description\": \"\"\n      }\n    },\n    {\n      \"column\": \"MAX\",\n      \"properties\": {\n        \"dtype\": \"number\",\n        \"std\": 2.8510898275554424,\n        \"min\": 23.52267567,\n        \"max\": 35.76933333,\n        \"num_unique_values\": 134,\n        \"samples\": [\n          32.99842226,\n          32.3081106,\n          32.84733333\n        ],\n        \"semantic_type\": \"\",\n        \"description\": \"\"\n      }\n    },\n    {\n      \"column\": \"HUMIDITY\",\n      \"properties\": {\n        \"dtype\": \"number\",\n        \"std\": 5.2538594313479505,\n        \"min\": 67.5483871,\n        \"max\": 88.38407102,\n        \"num_unique_values\": 134,\n        \"samples\": [\n          82.82406809,\n          84.90230415,\n          85.2952381\n        ],\n        \"semantic_type\": \"\",\n        \"description\": \"\"\n      }\n    },\n    {\n      \"column\": \"RAINFALL\",\n      \"properties\": {\n        \"dtype\": \"number\",\n        \"std\": 98.3937945216533,\n        \"min\": 0.0,\n        \"max\": 689.1612903,\n        \"num_unique_values\": 130,\n        \"samples\": [\n          6.281105991,\n          15.08387097,\n          17.29400922\n        ],\n        \"semantic_type\": \"\",\n        \"description\": \"\"\n      }\n    },\n    {\n      \"column\": \"DENGUE\",\n      \"properties\": {\n        \"dtype\": \"number\",\n        \"std\": 451,\n        \"min\": 0,\n        \"max\": 3087,\n        \"num_unique_values\": 87,\n        \"samples\": [\n          19,\n          0,\n          6\n        ],\n        \"semantic_type\": \"\",\n        \"description\": \"\"\n      }\n    },\n    {\n      \"column\": \"DENGUE first difference\",\n      \"properties\": {\n        \"dtype\": \"number\",\n        \"std\": 262.4238066030667,\n        \"min\": -1214.0,\n        \"max\": 1291.0,\n        \"num_unique_values\": 90,\n        \"samples\": [\n          -8.0,\n          -78.0,\n          -196.0\n        ],\n        \"semantic_type\": \"\",\n        \"description\": \"\"\n      }\n    },\n    {\n      \"column\": \"Seasonal first difference\",\n      \"properties\": {\n        \"dtype\": \"number\",\n        \"std\": 420.9207290302463,\n        \"min\": -1114.0,\n        \"max\": 2657.0,\n        \"num_unique_values\": 83,\n        \"samples\": [\n          217.0,\n          0.0,\n          -7.0\n        ],\n        \"semantic_type\": \"\",\n        \"description\": \"\"\n      }\n    }\n  ]\n}"
            }
          },
          "metadata": {},
          "execution_count": 8
        }
      ]
    },
    {
      "cell_type": "code",
      "source": [
        "adfuller_test(df['Seasonal first difference'].dropna())"
      ],
      "metadata": {
        "colab": {
          "base_uri": "https://localhost:8080/"
        },
        "id": "gvOxrwLSREKA",
        "outputId": "642ab0cf-ab0d-4fcc-e7d7-126eca485817"
      },
      "execution_count": null,
      "outputs": [
        {
          "output_type": "stream",
          "name": "stdout",
          "text": [
            "ADF test statistic : -3.751618472937028\n",
            "p-value : 0.003442975339034427\n",
            "#Lags Used : 12\n",
            "Number of observations Used : 109\n",
            "strong evidence againt null hypothsis H0,reject all the null hypothesis.\n"
          ]
        }
      ]
    },
    {
      "cell_type": "code",
      "source": [
        "df['Seasonal first difference'].plot()"
      ],
      "metadata": {
        "colab": {
          "base_uri": "https://localhost:8080/",
          "height": 447
        },
        "id": "aVLy5LgWRJpG",
        "outputId": "9e95507b-a609-46fa-ce5c-cb801e0d18d8"
      },
      "execution_count": null,
      "outputs": [
        {
          "output_type": "execute_result",
          "data": {
            "text/plain": [
              "<Axes: >"
            ]
          },
          "metadata": {},
          "execution_count": 10
        },
        {
          "output_type": "display_data",
          "data": {
            "text/plain": [
              "<Figure size 640x480 with 1 Axes>"
            ],
            "image/png": "[encoded data removed]"
          },
          "metadata": {}
        }
      ]
    },
    {
      "cell_type": "markdown",
      "source": [
        "**Auto Regressive Model**"
      ],
      "metadata": {
        "id": "20Qm4wLERQJW"
      }
    },
    {
      "cell_type": "code",
      "source": [
        "from pandas import plotting\n",
        "\n",
        "# Use the desired plotting function from the 'plotting' module\n",
        "plotting.autocorrelation_plot(df['DENGUE'])\n",
        "plt.show()"
      ],
      "metadata": {
        "colab": {
          "base_uri": "https://localhost:8080/",
          "height": 455
        },
        "id": "F9MkUaUPRN8o",
        "outputId": "86a541a1-17bf-4077-8cb6-164b8c73e096"
      },
      "execution_count": null,
      "outputs": [
        {
          "output_type": "display_data",
          "data": {
            "text/plain": [
              "<Figure size 640x480 with 1 Axes>"
            ],
            "image/png": "[encoded data removed]"
          },
          "metadata": {}
        }
      ]
    },
    {
      "cell_type": "code",
      "source": [
        "import statsmodels.tsa.stattools as smt"
      ],
      "metadata": {
        "id": "GQ_oHoQXRWSF"
      },
      "execution_count": null,
      "outputs": []
    },
    {
      "cell_type": "code",
      "source": [
        "from statsmodels.graphics.tsaplots import plot_acf"
      ],
      "metadata": {
        "id": "1FBH6j3XRbfR"
      },
      "execution_count": null,
      "outputs": []
    },
    {
      "cell_type": "code",
      "source": [
        "from statsmodels.graphics.tsaplots import plot_pacf"
      ],
      "metadata": {
        "id": "stDULidk_IW2"
      },
      "execution_count": null,
      "outputs": []
    },
    {
      "cell_type": "code",
      "source": [
        "fig=plt.figure(figsize=(12,8))\n",
        "ax1=fig.add_subplot(211)\n",
        "fig=plot_acf(df['Seasonal first difference'].iloc[13:], lags=10, ax=ax1)\n",
        "ax2=fig.add_subplot(212)\n",
        "fig=plot_pacf(df['Seasonal first difference'].iloc[13:], lags=10, ax=ax2)"
      ],
      "metadata": {
        "colab": {
          "base_uri": "https://localhost:8080/",
          "height": 699
        },
        "id": "lw95QOMkRd0Z",
        "outputId": "73abb618-25e1-4ab4-c36a-becbe421e486"
      },
      "execution_count": null,
      "outputs": [
        {
          "output_type": "display_data",
          "data": {
            "text/plain": [
              "<Figure size 1200x800 with 2 Axes>"
            ],
            "image/png": "[encoded data removed]"
          },
          "metadata": {}
        }
      ]
    },
    {
      "cell_type": "code",
      "source": [],
      "metadata": {
        "id": "xgUn21qD_ak9"
      },
      "execution_count": null,
      "outputs": []
    },
    {
      "cell_type": "markdown",
      "source": [
        "**Step 2: Determine ARIMA models parameters p, q Step 3: Fit the ARIMA model**"
      ],
      "metadata": {
        "id": "mCpfVZTyRl-U"
      }
    },
    {
      "cell_type": "code",
      "source": [
        "from statsmodels.tsa.arima.model import ARIMA\n",
        "\n",
        "# Reshape df_train into a univariate time series\n",
        "endog = df.stack()\n",
        "\n",
        "# Create the ARIMA model\n",
        "model = ARIMA(endog, order=(2,1,0))\n",
        "\n",
        "# Fit the model\n",
        "model_fit = model.fit()\n",
        "\n",
        "# Print the model summary\n",
        "print(model_fit.summary())"
      ],
      "metadata": {
        "colab": {
          "base_uri": "https://localhost:8080/"
        },
        "id": "XzO2P0R5RiKs",
        "outputId": "4461589a-3179-403e-dda0-dc7ef84d6baa"
      },
      "execution_count": null,
      "outputs": [
        {
          "output_type": "stream",
          "name": "stderr",
          "text": [
            "/usr/local/lib/python3.10/dist-packages/statsmodels/tsa/base/tsa_model.py:473: ValueWarning: An unsupported index was provided and will be ignored when e.g. forecasting.\n",
            "  self._init_dates(dates, freq)\n",
            "/usr/local/lib/python3.10/dist-packages/statsmodels/tsa/base/tsa_model.py:473: ValueWarning: An unsupported index was provided and will be ignored when e.g. forecasting.\n",
            "  self._init_dates(dates, freq)\n",
            "/usr/local/lib/python3.10/dist-packages/statsmodels/tsa/base/tsa_model.py:473: ValueWarning: An unsupported index was provided and will be ignored when e.g. forecasting.\n",
            "  self._init_dates(dates, freq)\n"
          ]
        },
        {
          "output_type": "stream",
          "name": "stdout",
          "text": [
            "                               SARIMAX Results                                \n",
            "==============================================================================\n",
            "Dep. Variable:                      y   No. Observations:                 1193\n",
            "Model:                 ARIMA(2, 1, 0)   Log Likelihood               -9643.709\n",
            "Date:                Fri, 05 Jul 2024   AIC                          19293.418\n",
            "Time:                        14:37:41   BIC                          19308.668\n",
            "Sample:                             0   HQIC                         19299.164\n",
            "                               - 1193                                         \n",
            "Covariance Type:                  opg                                         \n",
            "==============================================================================\n",
            "                 coef    std err          z      P>|z|      [0.025      0.975]\n",
            "------------------------------------------------------------------------------\n",
            "ar.L1         -0.6878      0.030    -22.663      0.000      -0.747      -0.628\n",
            "ar.L2         -0.3722      0.029    -12.727      0.000      -0.430      -0.315\n",
            "sigma2      6.222e+05   1.85e+04     33.708      0.000    5.86e+05    6.58e+05\n",
            "===================================================================================\n",
            "Ljung-Box (L1) (Q):                   8.18   Jarque-Bera (JB):               633.12\n",
            "Prob(Q):                              0.00   Prob(JB):                         0.00\n",
            "Heteroskedasticity (H):               1.11   Skew:                             1.53\n",
            "Prob(H) (two-sided):                  0.30   Kurtosis:                         4.86\n",
            "===================================================================================\n",
            "\n",
            "Warnings:\n",
            "[1] Covariance matrix calculated using the outer product of gradients (complex-step).\n"
          ]
        }
      ]
    },
    {
      "cell_type": "markdown",
      "source": [
        "**Step 4: Make time series predictions**"
      ],
      "metadata": {
        "id": "2SUxX8rJR5d3"
      }
    },
    {
      "cell_type": "code",
      "source": [
        "import matplotlib.pyplot as plt\n",
        "residuals = model_fit.resid[1:]\n",
        "fig, ax = plt.subplots(1,2)\n",
        "residuals.plot(title='Residuals', ax=ax[0])\n",
        "residuals.plot(title='Density', kind='kde', ax=ax[1])\n",
        "plt.show()"
      ],
      "metadata": {
        "colab": {
          "base_uri": "https://localhost:8080/",
          "height": 452
        },
        "id": "mG5B78vZRuP1",
        "outputId": "d5c33ffd-3688-40e2-a454-bd6e696fb402"
      },
      "execution_count": null,
      "outputs": [
        {
          "output_type": "display_data",
          "data": {
            "text/plain": [
              "<Figure size 640x480 with 2 Axes>"
            ],
            "image/png": "[encoded data removed]"
          },
          "metadata": {}
        }
      ]
    },
    {
      "cell_type": "code",
      "source": [
        "import statsmodels.api as sm\n",
        "\n",
        "acf_res = sm.graphics.tsa.plot_acf(residuals)\n",
        "pacf_res = sm.graphics.tsa.plot_pacf(residuals)"
      ],
      "metadata": {
        "colab": {
          "base_uri": "https://localhost:8080/",
          "height": 887
        },
        "id": "nqLdxIsITJ2t",
        "outputId": "c6a10e2d-db8c-4ef9-d3cb-4fa22e255c75"
      },
      "execution_count": null,
      "outputs": [
        {
          "output_type": "display_data",
          "data": {
            "text/plain": [
              "<Figure size 640x480 with 1 Axes>"
            ],
            "image/png": "[encoded data removed]"
          },
          "metadata": {}
        },
        {
          "output_type": "display_data",
          "data": {
            "text/plain": [
              "<Figure size 640x480 with 1 Axes>"
            ],
            "image/png": "[encoded data removed]"
          },
          "metadata": {}
        }
      ]
    },
    {
      "cell_type": "markdown",
      "source": [
        "**Optional: Auto-fit the ARIMA model**"
      ],
      "metadata": {
        "id": "OzTcJ0QjU2Vh"
      }
    },
    {
      "cell_type": "code",
      "source": [
        "!pip install pmdarima"
      ],
      "metadata": {
        "colab": {
          "base_uri": "https://localhost:8080/"
        },
        "id": "97gz1t53Ur1m",
        "outputId": "2da13b4a-a5ae-4bac-b2d7-94c63b2fbb8d"
      },
      "execution_count": null,
      "outputs": [
        {
          "output_type": "stream",
          "name": "stdout",
          "text": [
            "Collecting pmdarima\n",
            "  Downloading pmdarima-2.0.4-cp310-cp310-manylinux_2_17_x86_64.manylinux2014_x86_64.manylinux_2_28_x86_64.whl (2.1 MB)\n",
            "\u001b[2K     \u001b[90m━━━━━━━━━━━━━━━━━━━━━━━━━━━━━━━━━━━━━━━━\u001b[0m \u001b[32m2.1/2.1 MB\u001b[0m \u001b[31m19.3 MB/s\u001b[0m eta \u001b[36m0:00:00\u001b[0m\n",
            "\u001b[?25hRequirement already satisfied: joblib>=0.11 in /usr/local/lib/python3.10/dist-packages (from pmdarima) (1.4.2)\n",
            "Requirement already satisfied: Cython!=0.29.18,!=0.29.31,>=0.29 in /usr/local/lib/python3.10/dist-packages (from pmdarima) (3.0.10)\n",
            "Requirement already satisfied: numpy>=1.21.2 in /usr/local/lib/python3.10/dist-packages (from pmdarima) (1.25.2)\n",
            "Requirement already satisfied: pandas>=0.19 in /usr/local/lib/python3.10/dist-packages (from pmdarima) (2.0.3)\n",
            "Requirement already satisfied: scikit-learn>=0.22 in /usr/local/lib/python3.10/dist-packages (from pmdarima) (1.2.2)\n",
            "Requirement already satisfied: scipy>=1.3.2 in /usr/local/lib/python3.10/dist-packages (from pmdarima) (1.11.4)\n",
            "Requirement already satisfied: statsmodels>=0.13.2 in /usr/local/lib/python3.10/dist-packages (from pmdarima) (0.14.2)\n",
            "Requirement already satisfied: urllib3 in /usr/local/lib/python3.10/dist-packages (from pmdarima) (2.0.7)\n",
            "Requirement already satisfied: setuptools!=50.0.0,>=38.6.0 in /usr/local/lib/python3.10/dist-packages (from pmdarima) (67.7.2)\n",
            "Requirement already satisfied: packaging>=17.1 in /usr/local/lib/python3.10/dist-packages (from pmdarima) (24.1)\n",
            "Requirement already satisfied: python-dateutil>=2.8.2 in /usr/local/lib/python3.10/dist-packages (from pandas>=0.19->pmdarima) (2.8.2)\n",
            "Requirement already satisfied: pytz>=2020.1 in /usr/local/lib/python3.10/dist-packages (from pandas>=0.19->pmdarima) (2023.4)\n",
            "Requirement already satisfied: tzdata>=2022.1 in /usr/local/lib/python3.10/dist-packages (from pandas>=0.19->pmdarima) (2024.1)\n",
            "Requirement already satisfied: threadpoolctl>=2.0.0 in /usr/local/lib/python3.10/dist-packages (from scikit-learn>=0.22->pmdarima) (3.5.0)\n",
            "Requirement already satisfied: patsy>=0.5.6 in /usr/local/lib/python3.10/dist-packages (from statsmodels>=0.13.2->pmdarima) (0.5.6)\n",
            "Requirement already satisfied: six in /usr/local/lib/python3.10/dist-packages (from patsy>=0.5.6->statsmodels>=0.13.2->pmdarima) (1.16.0)\n",
            "Installing collected packages: pmdarima\n",
            "Successfully installed pmdarima-2.0.4\n"
          ]
        }
      ]
    },
    {
      "cell_type": "code",
      "source": [
        "import pmdarima as pm\n",
        "# Load data into the DataFrame\n",
        "df = pd.read_csv(\"/content/DengueAndClimateBangladesh.csv\")\n",
        "\n",
        "# Fit the auto_arima model\n",
        "auto_arima = pm.auto_arima(df.values.ravel(), stepwise=False, seasonal=False)\n",
        "auto_arima"
      ],
      "metadata": {
        "colab": {
          "base_uri": "https://localhost:8080/",
          "height": 75
        },
        "id": "utbUIks7YTPl",
        "outputId": "c7430a3f-866b-4f0d-c4f4-5058b59b4c63"
      },
      "execution_count": null,
      "outputs": [
        {
          "output_type": "execute_result",
          "data": {
            "text/plain": [
              "ARIMA(order=(1, 1, 4), scoring_args={}, suppress_warnings=True)"
            ],
            "text/html": [
              "<style>#sk-container-id-1 {color: black;background-color: white;}#sk-container-id-1 pre{padding: 0;}#sk-container-id-1 div.sk-toggleable {background-color: white;}#sk-container-id-1 label.sk-toggleable__label {cursor: pointer;display: block;width: 100%;margin-bottom: 0;padding: 0.3em;box-sizing: border-box;text-align: center;}#sk-container-id-1 label.sk-toggleable__label-arrow:before {content: \"▸\";float: left;margin-right: 0.25em;color: #696969;}#sk-container-id-1 label.sk-toggleable__label-arrow:hover:before {color: black;}#sk-container-id-1 div.sk-estimator:hover label.sk-toggleable__label-arrow:before {color: black;}#sk-container-id-1 div.sk-toggleable__content {max-height: 0;max-width: 0;overflow: hidden;text-align: left;background-color: #f0f8ff;}#sk-container-id-1 div.sk-toggleable__content pre {margin: 0.2em;color: black;border-radius: 0.25em;background-color: #f0f8ff;}#sk-container-id-1 input.sk-toggleable__control:checked~div.sk-toggleable__content {max-height: 200px;max-width: 100%;overflow: auto;}#sk-container-id-1 input.sk-toggleable__control:checked~label.sk-toggleable__label-arrow:before {content: \"▾\";}#sk-container-id-1 div.sk-estimator input.sk-toggleable__control:checked~label.sk-toggleable__label {background-color: #d4ebff;}#sk-container-id-1 div.sk-label input.sk-toggleable__control:checked~label.sk-toggleable__label {background-color: #d4ebff;}#sk-container-id-1 input.sk-hidden--visually {border: 0;clip: rect(1px 1px 1px 1px);clip: rect(1px, 1px, 1px, 1px);height: 1px;margin: -1px;overflow: hidden;padding: 0;position: absolute;width: 1px;}#sk-container-id-1 div.sk-estimator {font-family: monospace;background-color: #f0f8ff;border: 1px dotted black;border-radius: 0.25em;box-sizing: border-box;margin-bottom: 0.5em;}#sk-container-id-1 div.sk-estimator:hover {background-color: #d4ebff;}#sk-container-id-1 div.sk-parallel-item::after {content: \"\";width: 100%;border-bottom: 1px solid gray;flex-grow: 1;}#sk-container-id-1 div.sk-label:hover label.sk-toggleable__label {background-color: #d4ebff;}#sk-container-id-1 div.sk-serial::before {content: \"\";position: absolute;border-left: 1px solid gray;box-sizing: border-box;top: 0;bottom: 0;left: 50%;z-index: 0;}#sk-container-id-1 div.sk-serial {display: flex;flex-direction: column;align-items: center;background-color: white;padding-right: 0.2em;padding-left: 0.2em;position: relative;}#sk-container-id-1 div.sk-item {position: relative;z-index: 1;}#sk-container-id-1 div.sk-parallel {display: flex;align-items: stretch;justify-content: center;background-color: white;position: relative;}#sk-container-id-1 div.sk-item::before, #sk-container-id-1 div.sk-parallel-item::before {content: \"\";position: absolute;border-left: 1px solid gray;box-sizing: border-box;top: 0;bottom: 0;left: 50%;z-index: -1;}#sk-container-id-1 div.sk-parallel-item {display: flex;flex-direction: column;z-index: 1;position: relative;background-color: white;}#sk-container-id-1 div.sk-parallel-item:first-child::after {align-self: flex-end;width: 50%;}#sk-container-id-1 div.sk-parallel-item:last-child::after {align-self: flex-start;width: 50%;}#sk-container-id-1 div.sk-parallel-item:only-child::after {width: 0;}#sk-container-id-1 div.sk-dashed-wrapped {border: 1px dashed gray;margin: 0 0.4em 0.5em 0.4em;box-sizing: border-box;padding-bottom: 0.4em;background-color: white;}#sk-container-id-1 div.sk-label label {font-family: monospace;font-weight: bold;display: inline-block;line-height: 1.2em;}#sk-container-id-1 div.sk-label-container {text-align: center;}#sk-container-id-1 div.sk-container {/* jupyter's `normalize.less` sets `[hidden] { display: none; }` but bootstrap.min.css set `[hidden] { display: none !important; }` so we also need the `!important` here to be able to override the default hidden behavior on the sphinx rendered scikit-learn.org. See: https://github.com/scikit-learn/scikit-learn/issues/21755 */display: inline-block !important;position: relative;}#sk-container-id-1 div.sk-text-repr-fallback {display: none;}</style><div id=\"sk-container-id-1\" class=\"sk-top-container\"><div class=\"sk-text-repr-fallback\"><pre> ARIMA(1,1,4)(0,0,0)[0] intercept</pre><b>In a Jupyter environment, please rerun this cell to show the HTML representation or trust the notebook. <br />On GitHub, the HTML representation is unable to render, please try loading this page with nbviewer.org.</b></div><div class=\"sk-container\" hidden><div class=\"sk-item\"><div class=\"sk-estimator sk-toggleable\"><input class=\"sk-toggleable__control sk-hidden--visually\" id=\"sk-estimator-id-1\" type=\"checkbox\" checked><label for=\"sk-estimator-id-1\" class=\"sk-toggleable__label sk-toggleable__label-arrow\">ARIMA</label><div class=\"sk-toggleable__content\"><pre> ARIMA(1,1,4)(0,0,0)[0] intercept</pre></div></div></div></div></div>"
            ]
          },
          "metadata": {},
          "execution_count": 19
        }
      ]
    },
    {
      "cell_type": "code",
      "source": [
        "auto_arima.summary()"
      ],
      "metadata": {
        "colab": {
          "base_uri": "https://localhost:8080/",
          "height": 516
        },
        "id": "qfgFKN8LU-mH",
        "outputId": "56b2554f-3d00-4963-bfb3-d7d68f8111c6"
      },
      "execution_count": null,
      "outputs": [
        {
          "output_type": "execute_result",
          "data": {
            "text/plain": [
              "<class 'statsmodels.iolib.summary.Summary'>\n",
              "\"\"\"\n",
              "                               SARIMAX Results                                \n",
              "==============================================================================\n",
              "Dep. Variable:                      y   No. Observations:                  938\n",
              "Model:               SARIMAX(1, 1, 4)   Log Likelihood               -7411.244\n",
              "Date:                Fri, 05 Jul 2024   AIC                          14836.489\n",
              "Time:                        14:40:40   BIC                          14870.388\n",
              "Sample:                             0   HQIC                         14849.413\n",
              "                                - 938                                         \n",
              "Covariance Type:                  opg                                         \n",
              "==============================================================================\n",
              "                 coef    std err          z      P>|z|      [0.025      0.975]\n",
              "------------------------------------------------------------------------------\n",
              "intercept      0.1054     10.293      0.010      0.992     -20.068      20.279\n",
              "ar.L1         -0.4686      0.147     -3.177      0.001      -0.758      -0.180\n",
              "ma.L1         -0.5961      0.051    -11.595      0.000      -0.697      -0.495\n",
              "ma.L2         -0.6054      0.065     -9.282      0.000      -0.733      -0.478\n",
              "ma.L3         -0.5826      0.064     -9.078      0.000      -0.708      -0.457\n",
              "ma.L4          0.9569      0.050     19.278      0.000       0.860       1.054\n",
              "sigma2      8.615e+05   7.21e+04     11.953      0.000     7.2e+05       1e+06\n",
              "===================================================================================\n",
              "Ljung-Box (L1) (Q):                  11.82   Jarque-Bera (JB):                37.06\n",
              "Prob(Q):                              0.00   Prob(JB):                         0.00\n",
              "Heteroskedasticity (H):               1.18   Skew:                             0.45\n",
              "Prob(H) (two-sided):                  0.15   Kurtosis:                         2.64\n",
              "===================================================================================\n",
              "\n",
              "Warnings:\n",
              "[1] Covariance matrix calculated using the outer product of gradients (complex-step).\n",
              "\"\"\""
            ],
            "text/html": [
              "<table class=\"simpletable\">\n",
              "<caption>SARIMAX Results</caption>\n",
              "<tr>\n",
              "  <th>Dep. Variable:</th>           <td>y</td>        <th>  No. Observations:  </th>    <td>938</td>   \n",
              "</tr>\n",
              "<tr>\n",
              "  <th>Model:</th>           <td>SARIMAX(1, 1, 4)</td> <th>  Log Likelihood     </th> <td>-7411.244</td>\n",
              "</tr>\n",
              "<tr>\n",
              "  <th>Date:</th>            <td>Fri, 05 Jul 2024</td> <th>  AIC                </th> <td>14836.489</td>\n",
              "</tr>\n",
              "<tr>\n",
              "  <th>Time:</th>                <td>14:40:40</td>     <th>  BIC                </th> <td>14870.388</td>\n",
              "</tr>\n",
              "<tr>\n",
              "  <th>Sample:</th>                  <td>0</td>        <th>  HQIC               </th> <td>14849.413</td>\n",
              "</tr>\n",
              "<tr>\n",
              "  <th></th>                      <td> - 938</td>      <th>                     </th>     <td> </td>    \n",
              "</tr>\n",
              "<tr>\n",
              "  <th>Covariance Type:</th>        <td>opg</td>       <th>                     </th>     <td> </td>    \n",
              "</tr>\n",
              "</table>\n",
              "<table class=\"simpletable\">\n",
              "<tr>\n",
              "      <td></td>         <th>coef</th>     <th>std err</th>      <th>z</th>      <th>P>|z|</th>  <th>[0.025</th>    <th>0.975]</th>  \n",
              "</tr>\n",
              "<tr>\n",
              "  <th>intercept</th> <td>    0.1054</td> <td>   10.293</td> <td>    0.010</td> <td> 0.992</td> <td>  -20.068</td> <td>   20.279</td>\n",
              "</tr>\n",
              "<tr>\n",
              "  <th>ar.L1</th>     <td>   -0.4686</td> <td>    0.147</td> <td>   -3.177</td> <td> 0.001</td> <td>   -0.758</td> <td>   -0.180</td>\n",
              "</tr>\n",
              "<tr>\n",
              "  <th>ma.L1</th>     <td>   -0.5961</td> <td>    0.051</td> <td>  -11.595</td> <td> 0.000</td> <td>   -0.697</td> <td>   -0.495</td>\n",
              "</tr>\n",
              "<tr>\n",
              "  <th>ma.L2</th>     <td>   -0.6054</td> <td>    0.065</td> <td>   -9.282</td> <td> 0.000</td> <td>   -0.733</td> <td>   -0.478</td>\n",
              "</tr>\n",
              "<tr>\n",
              "  <th>ma.L3</th>     <td>   -0.5826</td> <td>    0.064</td> <td>   -9.078</td> <td> 0.000</td> <td>   -0.708</td> <td>   -0.457</td>\n",
              "</tr>\n",
              "<tr>\n",
              "  <th>ma.L4</th>     <td>    0.9569</td> <td>    0.050</td> <td>   19.278</td> <td> 0.000</td> <td>    0.860</td> <td>    1.054</td>\n",
              "</tr>\n",
              "<tr>\n",
              "  <th>sigma2</th>    <td> 8.615e+05</td> <td> 7.21e+04</td> <td>   11.953</td> <td> 0.000</td> <td>  7.2e+05</td> <td>    1e+06</td>\n",
              "</tr>\n",
              "</table>\n",
              "<table class=\"simpletable\">\n",
              "<tr>\n",
              "  <th>Ljung-Box (L1) (Q):</th>     <td>11.82</td> <th>  Jarque-Bera (JB):  </th> <td>37.06</td>\n",
              "</tr>\n",
              "<tr>\n",
              "  <th>Prob(Q):</th>                <td>0.00</td>  <th>  Prob(JB):          </th> <td>0.00</td> \n",
              "</tr>\n",
              "<tr>\n",
              "  <th>Heteroskedasticity (H):</th> <td>1.18</td>  <th>  Skew:              </th> <td>0.45</td> \n",
              "</tr>\n",
              "<tr>\n",
              "  <th>Prob(H) (two-sided):</th>    <td>0.15</td>  <th>  Kurtosis:          </th> <td>2.64</td> \n",
              "</tr>\n",
              "</table><br/><br/>Warnings:<br/>[1] Covariance matrix calculated using the outer product of gradients (complex-step)."
            ],
            "text/latex": "\\begin{center}\n\\begin{tabular}{lclc}\n\\toprule\n\\textbf{Dep. Variable:}          &        y         & \\textbf{  No. Observations:  } &    938      \\\\\n\\textbf{Model:}                  & SARIMAX(1, 1, 4) & \\textbf{  Log Likelihood     } & -7411.244   \\\\\n\\textbf{Date:}                   & Fri, 05 Jul 2024 & \\textbf{  AIC                } & 14836.489   \\\\\n\\textbf{Time:}                   &     14:40:40     & \\textbf{  BIC                } & 14870.388   \\\\\n\\textbf{Sample:}                 &        0         & \\textbf{  HQIC               } & 14849.413   \\\\\n\\textbf{}                        &       - 938      & \\textbf{                     } &             \\\\\n\\textbf{Covariance Type:}        &       opg        & \\textbf{                     } &             \\\\\n\\bottomrule\n\\end{tabular}\n\\begin{tabular}{lcccccc}\n                   & \\textbf{coef} & \\textbf{std err} & \\textbf{z} & \\textbf{P$> |$z$|$} & \\textbf{[0.025} & \\textbf{0.975]}  \\\\\n\\midrule\n\\textbf{intercept} &       0.1054  &       10.293     &     0.010  &         0.992        &      -20.068    &       20.279     \\\\\n\\textbf{ar.L1}     &      -0.4686  &        0.147     &    -3.177  &         0.001        &       -0.758    &       -0.180     \\\\\n\\textbf{ma.L1}     &      -0.5961  &        0.051     &   -11.595  &         0.000        &       -0.697    &       -0.495     \\\\\n\\textbf{ma.L2}     &      -0.6054  &        0.065     &    -9.282  &         0.000        &       -0.733    &       -0.478     \\\\\n\\textbf{ma.L3}     &      -0.5826  &        0.064     &    -9.078  &         0.000        &       -0.708    &       -0.457     \\\\\n\\textbf{ma.L4}     &       0.9569  &        0.050     &    19.278  &         0.000        &        0.860    &        1.054     \\\\\n\\textbf{sigma2}    &    8.615e+05  &     7.21e+04     &    11.953  &         0.000        &      7.2e+05    &        1e+06     \\\\\n\\bottomrule\n\\end{tabular}\n\\begin{tabular}{lclc}\n\\textbf{Ljung-Box (L1) (Q):}     & 11.82 & \\textbf{  Jarque-Bera (JB):  } & 37.06  \\\\\n\\textbf{Prob(Q):}                &  0.00 & \\textbf{  Prob(JB):          } &  0.00  \\\\\n\\textbf{Heteroskedasticity (H):} &  1.18 & \\textbf{  Skew:              } &  0.45  \\\\\n\\textbf{Prob(H) (two-sided):}    &  0.15 & \\textbf{  Kurtosis:          } &  2.64  \\\\\n\\bottomrule\n\\end{tabular}\n%\\caption{SARIMAX Results}\n\\end{center}\n\nWarnings: \\newline\n [1] Covariance matrix calculated using the outer product of gradients (complex-step)."
          },
          "metadata": {},
          "execution_count": 20
        }
      ]
    },
    {
      "cell_type": "markdown",
      "source": [
        "**Step 5: Evaluate model predictions**"
      ],
      "metadata": {
        "id": "4lz7B3PAVkNw"
      }
    },
    {
      "cell_type": "code",
      "source": [
        "forecast_test_auto = auto_arima.predict(n_periods=len(df))\n",
        "df['forecast_auto'] = forecast_test_auto[:len(df)]\n",
        "df.plot()"
      ],
      "metadata": {
        "colab": {
          "base_uri": "https://localhost:8080/",
          "height": 447
        },
        "id": "cE3ilq7GYQcd",
        "outputId": "012dd99e-3f9c-4c83-8c6d-0aa7f604eea9"
      },
      "execution_count": null,
      "outputs": [
        {
          "output_type": "execute_result",
          "data": {
            "text/plain": [
              "<Axes: >"
            ]
          },
          "metadata": {},
          "execution_count": 21
        },
        {
          "output_type": "display_data",
          "data": {
            "text/plain": [
              "<Figure size 640x480 with 1 Axes>"
            ],
            "image/png": "[encoded data removed]"
          },
          "metadata": {}
        }
      ]
    },
    {
      "cell_type": "code",
      "source": [
        "# Import the necessary libraries\n",
        "from sklearn.metrics import mean_absolute_error, mean_absolute_percentage_error, mean_squared_error\n",
        "\n",
        "# Load data into the DataFrame\n",
        "df = pd.read_csv(\"/content/DengueAndClimateBangladesh.csv\")\n",
        "\n",
        "# Fit the auto_arima model\n",
        "auto_arima = pm.auto_arima(df.values.ravel(), stepwise=False, seasonal=False)\n",
        "\n",
        "# Predict the values\n",
        "forecast_auto = auto_arima.predict(n_periods=len(df))\n",
        "\n",
        "# Calculate the performance metrics\n",
        "mae = mean_absolute_error(df['DENGUE'], forecast_auto)\n",
        "mape = mean_absolute_percentage_error(df['DENGUE'], forecast_auto)\n",
        "rmse = np.sqrt(mean_squared_error(df['DENGUE'], forecast_auto))\n",
        "\n",
        "# Print the results\n",
        "print(f'mae - auto: {mae}')\n",
        "print(f'mape - auto: {mape}')\n",
        "print(f'rmse - auto: {rmse}')"
      ],
      "metadata": {
        "colab": {
          "base_uri": "https://localhost:8080/"
        },
        "id": "p6WOgV15Z1Rc",
        "outputId": "8e16419d-a15d-4b0c-9cf7-9b1fed858f14"
      },
      "execution_count": null,
      "outputs": [
        {
          "output_type": "stream",
          "name": "stdout",
          "text": [
            "mae - auto: 425.7393468425392\n",
            "mape - auto: 5.616646466190959e+17\n",
            "rmse - auto: 516.0460867046597\n"
          ]
        }
      ]
    },
    {
      "cell_type": "code",
      "source": [
        "mae = mean_absolute_error(df.iloc[:, 0], forecast_test_auto)\n",
        "mape = mean_absolute_percentage_error(df.iloc[:, 0], forecast_test_auto)\n",
        "rmse = np.sqrt(mean_squared_error(df.iloc[:, 0], forecast_test_auto))\n",
        "\n",
        "print(f'mae - manual: {mae}')\n",
        "print(f'mape - manual: {mape}')\n",
        "print(f'rmse - manual: {rmse}')"
      ],
      "metadata": {
        "colab": {
          "base_uri": "https://localhost:8080/"
        },
        "id": "vVYN9Ij0Ykof",
        "outputId": "8b4369eb-d61b-4484-b52f-2f04fbda6db1"
      },
      "execution_count": null,
      "outputs": [
        {
          "output_type": "stream",
          "name": "stdout",
          "text": [
            "mae - manual: 1553.6759939323015\n",
            "mape - manual: 0.771785025068796\n",
            "rmse - manual: 1554.5381002810145\n"
          ]
        }
      ]
    },
    {
      "cell_type": "markdown",
      "source": [
        "**T2**\n",
        "https://medium.com/@ozdogar/time-series-forecasting-using-sarima-python-8db28f1d8cfc"
      ],
      "metadata": {
        "id": "WtkTx07KfBU2"
      }
    },
    {
      "cell_type": "code",
      "source": [
        "import numpy as np\n",
        "import pandas as pd\n",
        "import matplotlib.pyplot as plt\n",
        "from sklearn.linear_model import LinearRegression\n",
        "from sklearn.metrics import mean_squared_error, r2_score\n",
        "from statsmodels.tsa.stattools import adfuller\n",
        "from statsmodels.graphics.tsaplots import plot_acf, plot_pacf\n",
        "import statsmodels.api as sm\n",
        "import warnings\n",
        "warnings.filterwarnings('ignore')"
      ],
      "metadata": {
        "id": "wUUyeCvudbOa"
      },
      "execution_count": null,
      "outputs": []
    },
    {
      "cell_type": "markdown",
      "source": [
        "The values in the forecast.predicted_mean output represent the predicted average number of dengue cases per month for the next 12 months, along with the 95% confidence intervals."
      ],
      "metadata": {
        "id": "oHDIil5Hk-13"
      }
    },
    {
      "cell_type": "code",
      "source": [
        "# Import the necessary libraries\n",
        "from sklearn.model_selection import train_test_split\n",
        "\n",
        "# Split the data into training and test sets\n",
        "X_train, X_test, y_train, y_test = train_test_split(df, df['DENGUE'], test_size=0.2)\n",
        "\n",
        "# Fit the SARIMAX model to the training data\n",
        "model = SARIMAX(y_train, order=(3, 1, 4), seasonal_order=(1, 0, 2, 12))\n",
        "result = model.fit()\n",
        "\n",
        "# Predict the values for the whole dataset\n",
        "predictions = result.predict(start=0, end=len(df) - 1)\n",
        "\n",
        "# Print the predictions\n",
        "print(predictions)"
      ],
      "metadata": {
        "colab": {
          "base_uri": "https://localhost:8080/"
        },
        "id": "NMjh_zxwknOH",
        "outputId": "1ca5fcfe-ba1c-40fb-cb04-38113567d501"
      },
      "execution_count": null,
      "outputs": [
        {
          "output_type": "stream",
          "name": "stdout",
          "text": [
            "0         0.000000\n",
            "1       287.807712\n",
            "2      1188.406959\n",
            "3      1016.665325\n",
            "4       731.370548\n",
            "          ...     \n",
            "129     200.486851\n",
            "130     191.579192\n",
            "131     284.785721\n",
            "132     224.377163\n",
            "133     169.696425\n",
            "Name: predicted_mean, Length: 134, dtype: float64\n"
          ]
        }
      ]
    },
    {
      "cell_type": "markdown",
      "source": [
        "**The R² value is a statistical measure that indicates the proportion of the variance in the dependent variable that is predictable from the independent variable(s). It ranges from 0 to 1, where 1 indicates perfect fit and 0 indicates no fit.**"
      ],
      "metadata": {
        "id": "I_qTQadDmAU5"
      }
    },
    {
      "cell_type": "code",
      "source": [
        "import pandas as pd\n",
        "from statsmodels.tsa.statespace.sarimax import SARIMAX\n",
        "from sklearn.metrics import r2_score\n",
        "\n",
        "# Load your data into a Pandas DataFrame\n",
        "data = pd.read_csv(\"/content/DengueAndClimateBangladesh.csv\")\n",
        "\n",
        "# Define the target variable\n",
        "target_variable = \"DENGUE\"\n",
        "\n",
        "# Split the data into training and test sets\n",
        "train_data = df.copy()\n",
        "\n",
        "# Fit the SARIMAX model\n",
        "model = SARIMAX(train_data[target_variable], order=(2, 1, 3), seasonal_order=(1, 0, 1, 12))\n",
        "results = model.fit()\n",
        "\n",
        "# Make predictions on the entire train_data set\n",
        "predictions = results.predict(start=0, end=len(train_data) - 1)\n",
        "\n",
        "# Calculate the R² score\n",
        "r2_score_value = r2_score(train_data[target_variable], predictions)\n",
        "\n",
        "# Print the R² score\n",
        "print(\"R² score:\", r2_score_value)"
      ],
      "metadata": {
        "colab": {
          "base_uri": "https://localhost:8080/"
        },
        "id": "F2UwsrgfqS_y",
        "outputId": "f010d9a8-b1ec-418c-db40-4aacbfdb8f55"
      },
      "execution_count": null,
      "outputs": [
        {
          "output_type": "stream",
          "name": "stdout",
          "text": [
            "R² score: 0.8444021823839278\n"
          ]
        }
      ]
    },
    {
      "cell_type": "code",
      "source": [
        "import pandas as pd\n",
        "from statsmodels.tsa.statespace.sarimax import SARIMAX\n",
        "from sklearn.metrics import r2_score\n",
        "\n",
        "# Load your data into a Pandas DataFrame\n",
        "data = pd.read_csv(\"/content/DengueAndClimateBangladesh.csv\")\n",
        "\n",
        "# Define the target variable\n",
        "target_variable = \"DENGUE\"\n",
        "\n",
        "# Split the data into training and test sets\n",
        "train_data = df.copy()\n",
        "\n",
        "# Fit the SARIMAX model with the specified order\n",
        "model = SARIMAX(train_data[target_variable], order=(3, 1, 4), seasonal_order=(1, 0, 2, 12))\n",
        "results = model.fit()\n",
        "\n",
        "# Make predictions on the entire train_data set\n",
        "predictions = results.predict(start=0, end=len(train_data) - 1)\n",
        "\n",
        "# Calculate the R² score\n",
        "r2_score_value = r2_score(train_data[target_variable], predictions)\n",
        "\n",
        "# Print the R² score\n",
        "print(\"R² score:\", r2_score_value)"
      ],
      "metadata": {
        "id": "1r8bXY_evAMV",
        "colab": {
          "base_uri": "https://localhost:8080/"
        },
        "outputId": "b7697e25-55fb-45f5-a622-999fad13a189"
      },
      "execution_count": null,
      "outputs": [
        {
          "output_type": "stream",
          "name": "stdout",
          "text": [
            "R² score: 0.8648484570741903\n"
          ]
        }
      ]
    },
    {
      "cell_type": "code",
      "source": [
        "import pandas as pd\n",
        "from statsmodels.tsa.statespace.sarimax import SARIMAX\n",
        "from sklearn.metrics import r2_score\n",
        "\n",
        "# Load your data into a Pandas DataFrame\n",
        "data = pd.read_csv(\"/content/DengueAndClimateBangladesh.csv\")\n",
        "\n",
        "# Define the target variable\n",
        "target_variable = \"DENGUE\"\n",
        "\n",
        "# Split the data into training and test sets\n",
        "train_data = df.copy()\n",
        "\n",
        "# Fit the SARIMAX model with the specified order\n",
        "model = SARIMAX(train_data[target_variable], order=(1, 1, 2), seasonal_order=(1, 0, 1, 12))\n",
        "results = model.fit()\n",
        "\n",
        "# Make predictions on the entire train_data set\n",
        "predictions = results.predict(start=0, end=len(train_data) - 1)\n",
        "\n",
        "# Calculate the R² score\n",
        "r2_score_value = r2_score(train_data[target_variable], predictions)\n",
        "\n",
        "# Print the R² score\n",
        "print(\"R² score:\", r2_score_value)"
      ],
      "metadata": {
        "id": "Cu5-3CL2k58F",
        "colab": {
          "base_uri": "https://localhost:8080/"
        },
        "outputId": "1fcab90b-2b19-49b0-eed7-55ea9bf958b7"
      },
      "execution_count": null,
      "outputs": [
        {
          "output_type": "stream",
          "name": "stdout",
          "text": [
            "R² score: 0.8234104429798773\n"
          ]
        }
      ]
    },
    {
      "cell_type": "markdown",
      "source": [
        "**An R² score of 0.8444021823839278 means that approximately 84.44% of the variance in DENGUE can be explained by the SARIMAX model. This is a relatively high R² score, indicating that the model is a good fit for the data.**"
      ],
      "metadata": {
        "id": "-CkVDxL9radm"
      }
    },
    {
      "cell_type": "markdown",
      "source": [
        "**help from colab**"
      ],
      "metadata": {
        "id": "rwxcUC3noRv7"
      }
    },
    {
      "cell_type": "code",
      "source": [
        "from statsmodels.stats.diagnostic import acorr_ljungbox\n",
        "\n",
        "# Get the residuals from the SARIMAX model\n",
        "residuals = result.resid\n",
        "\n",
        "# Perform the Ljung-Box test\n",
        "lb_test = acorr_ljungbox(residuals, lags=[1])\n",
        "\n",
        "# Print the Ljung-Box statistic and p-value\n",
        "print(\"Ljung-Box (L1) statistic (Q):\", lb_test.iloc[0, 0])\n",
        "print(\"p-value:\", lb_test.iloc[0, 1])"
      ],
      "metadata": {
        "colab": {
          "base_uri": "https://localhost:8080/"
        },
        "id": "9uDvWXP-wZnx",
        "outputId": "612098d6-a5e0-46d8-b62f-0948620f04db"
      },
      "execution_count": null,
      "outputs": [
        {
          "output_type": "stream",
          "name": "stdout",
          "text": [
            "Ljung-Box (L1) statistic (Q): 0.007888794468929266\n",
            "p-value: 0.9292258483374202\n"
          ]
        }
      ]
    },
    {
      "cell_type": "markdown",
      "source": [
        "the Ljung-Box test at lag 1 does not show significant autocorrelation in the residuals is a positive indication that the model is capturing the dependencies in the data well."
      ],
      "metadata": {
        "id": "-FpehvhUxuKc"
      }
    },
    {
      "cell_type": "markdown",
      "source": [
        "**Analyzing  AIC & BIC**"
      ],
      "metadata": {
        "id": "nRLzRdHs8bZA"
      }
    },
    {
      "cell_type": "code",
      "source": [
        "# Import necessary libraries\n",
        "import pandas as pd\n",
        "import statsmodels.api as sm\n",
        "\n",
        "# Load the data\n",
        "df = pd.read_csv('/content/DengueAndClimateBangladesh.csv')\n",
        "\n",
        "# Define the SARIMAX model\n",
        "model = sm.tsa.statespace.SARIMAX(df['DENGUE'],\n",
        "                               order=(3, 1, 4),\n",
        "                               seasonal_order=(1, 0, 2, 12))\n",
        "\n",
        "# Fit the model\n",
        "results = model.fit()\n",
        "\n",
        "# Get the residuals\n",
        "residuals = results.resid\n",
        "\n",
        "# Plot the residuals\n",
        "plt.plot(residuals)\n",
        "plt.title('Residuals for SARIMAX Model')\n",
        "plt.xlabel('Time')\n",
        "plt.ylabel('Residual Value')\n",
        "plt.show()\n",
        "\n",
        "# Get the AIC value\n",
        "aic = results.aic\n",
        "\n",
        "# Print the AIC value\n",
        "print('AIC:', aic)\n",
        "# Get the BIC value\n",
        "bic = results.bic\n",
        "\n",
        "# Print the BIC value\n",
        "print('BIC:', bic)"
      ],
      "metadata": {
        "colab": {
          "base_uri": "https://localhost:8080/",
          "height": 507
        },
        "id": "Nxyx8rAT6MPC",
        "outputId": "ef369a42-3cd9-4d30-922d-4197d8ad9b01"
      },
      "execution_count": null,
      "outputs": [
        {
          "output_type": "display_data",
          "data": {
            "text/plain": [
              "<Figure size 640x480 with 1 Axes>"
            ],
            "image/png": "[encoded data removed]"
          },
          "metadata": {}
        },
        {
          "output_type": "stream",
          "name": "stdout",
          "text": [
            "AIC: 1769.4670088853363\n",
            "BIC: 1801.2608492957756\n"
          ]
        }
      ]
    },
    {
      "cell_type": "markdown",
      "source": [
        "**Sensitivity Analysis**"
      ],
      "metadata": {
        "id": "MUfZxJSY85kV"
      }
    },
    {
      "cell_type": "code",
      "source": [
        "# Perform sensitivity analysis by varying the model order and seasonal order\n",
        "orders = [(1, 1, 2), (2, 1, 3), (3, 1, 4)]\n",
        "seasonal_orders = [(0, 0, 1, 12), (1, 0, 1, 12), (1, 0, 2, 12)]\n",
        "\n",
        "for order in orders:\n",
        "    for seasonal_order in seasonal_orders:\n",
        "        # Define the model with the current order and seasonal order\n",
        "        model = sm.tsa.statespace.SARIMAX(df['DENGUE'],\n",
        "                                       order=order,\n",
        "                                       seasonal_order=seasonal_order)\n",
        "\n",
        "        # Fit the model\n",
        "        results = model.fit()\n",
        "\n",
        "        # Print the model summary\n",
        "        print(f'Order: {order}, Seasonal Order: {seasonal_order}')\n",
        "        print(results.summary())"
      ],
      "metadata": {
        "colab": {
          "base_uri": "https://localhost:8080/"
        },
        "id": "pJ8b6zTH62Cw",
        "outputId": "5e7c22fd-2361-41e5-c4fb-b51b7924fa8c"
      },
      "execution_count": null,
      "outputs": [
        {
          "output_type": "stream",
          "name": "stdout",
          "text": [
            "Order: (1, 1, 2), Seasonal Order: (0, 0, 1, 12)\n",
            "                                      SARIMAX Results                                       \n",
            "============================================================================================\n",
            "Dep. Variable:                               DENGUE   No. Observations:                  134\n",
            "Model:             SARIMAX(1, 1, 2)x(0, 0, [1], 12)   Log Likelihood                -899.315\n",
            "Date:                              Fri, 05 Jul 2024   AIC                           1808.630\n",
            "Time:                                      14:47:35   BIC                           1823.081\n",
            "Sample:                                           0   HQIC                          1814.502\n",
            "                                              - 134                                         \n",
            "Covariance Type:                                opg                                         \n",
            "==============================================================================\n",
            "                 coef    std err          z      P>|z|      [0.025      0.975]\n",
            "------------------------------------------------------------------------------\n",
            "ar.L1          0.7452      0.084      8.843      0.000       0.580       0.910\n",
            "ma.L1         -0.4686      0.540     -0.868      0.385      -1.527       0.590\n",
            "ma.L2         -0.5301      0.277     -1.915      0.056      -1.073       0.013\n",
            "ma.S.L12       0.1204      0.151      0.797      0.426      -0.176       0.416\n",
            "sigma2      4.276e+04   2.05e+04      2.085      0.037    2571.082    8.29e+04\n",
            "===================================================================================\n",
            "Ljung-Box (L1) (Q):                   2.95   Jarque-Bera (JB):               936.34\n",
            "Prob(Q):                              0.09   Prob(JB):                         0.00\n",
            "Heteroskedasticity (H):               7.02   Skew:                             1.94\n",
            "Prob(H) (two-sided):                  0.00   Kurtosis:                        15.41\n",
            "===================================================================================\n",
            "\n",
            "Warnings:\n",
            "[1] Covariance matrix calculated using the outer product of gradients (complex-step).\n",
            "Order: (1, 1, 2), Seasonal Order: (1, 0, 1, 12)\n",
            "                                      SARIMAX Results                                       \n",
            "============================================================================================\n",
            "Dep. Variable:                               DENGUE   No. Observations:                  134\n",
            "Model:             SARIMAX(1, 1, 2)x(1, 0, [1], 12)   Log Likelihood                -889.127\n",
            "Date:                              Fri, 05 Jul 2024   AIC                           1790.253\n",
            "Time:                                      14:47:36   BIC                           1807.595\n",
            "Sample:                                           0   HQIC                          1797.301\n",
            "                                              - 134                                         \n",
            "Covariance Type:                                opg                                         \n",
            "==============================================================================\n",
            "                 coef    std err          z      P>|z|      [0.025      0.975]\n",
            "------------------------------------------------------------------------------\n",
            "ar.L1          0.7349      0.098      7.524      0.000       0.543       0.926\n",
            "ma.L1         -0.5279      2.766     -0.191      0.849      -5.949       4.893\n",
            "ma.L2         -0.4720      1.270     -0.372      0.710      -2.961       2.017\n",
            "ar.S.L12       0.9088      0.101      9.005      0.000       0.711       1.107\n",
            "ma.S.L12      -0.6326      0.189     -3.343      0.001      -1.004      -0.262\n",
            "sigma2      3.539e+04   9.51e+04      0.372      0.710   -1.51e+05    2.22e+05\n",
            "===================================================================================\n",
            "Ljung-Box (L1) (Q):                   1.39   Jarque-Bera (JB):              1544.60\n",
            "Prob(Q):                              0.24   Prob(JB):                         0.00\n",
            "Heteroskedasticity (H):               8.19   Skew:                             2.44\n",
            "Prob(H) (two-sided):                  0.00   Kurtosis:                        18.96\n",
            "===================================================================================\n",
            "\n",
            "Warnings:\n",
            "[1] Covariance matrix calculated using the outer product of gradients (complex-step).\n",
            "Order: (1, 1, 2), Seasonal Order: (1, 0, 2, 12)\n",
            "                                     SARIMAX Results                                      \n",
            "==========================================================================================\n",
            "Dep. Variable:                             DENGUE   No. Observations:                  134\n",
            "Model:             SARIMAX(1, 1, 2)x(1, 0, 2, 12)   Log Likelihood                -881.094\n",
            "Date:                            Fri, 05 Jul 2024   AIC                           1776.189\n",
            "Time:                                    14:47:37   BIC                           1796.421\n",
            "Sample:                                         0   HQIC                          1784.410\n",
            "                                            - 134                                         \n",
            "Covariance Type:                              opg                                         \n",
            "==============================================================================\n",
            "                 coef    std err          z      P>|z|      [0.025      0.975]\n",
            "------------------------------------------------------------------------------\n",
            "ar.L1          0.7149      0.109      6.551      0.000       0.501       0.929\n",
            "ma.L1         -0.5481      6.374     -0.086      0.931     -13.040      11.944\n",
            "ma.L2         -0.4519      2.882     -0.157      0.875      -6.101       5.197\n",
            "ar.S.L12       0.8645      0.168      5.151      0.000       0.536       1.193\n",
            "ma.S.L12      -0.8593      0.181     -4.749      0.000      -1.214      -0.505\n",
            "ma.S.L24       0.4894      0.096      5.098      0.000       0.301       0.678\n",
            "sigma2      2.918e+04   1.84e+05      0.158      0.874   -3.32e+05     3.9e+05\n",
            "===================================================================================\n",
            "Ljung-Box (L1) (Q):                   0.74   Jarque-Bera (JB):              1927.67\n",
            "Prob(Q):                              0.39   Prob(JB):                         0.00\n",
            "Heteroskedasticity (H):               7.88   Skew:                             2.75\n",
            "Prob(H) (two-sided):                  0.00   Kurtosis:                        20.82\n",
            "===================================================================================\n",
            "\n",
            "Warnings:\n",
            "[1] Covariance matrix calculated using the outer product of gradients (complex-step).\n",
            "Order: (2, 1, 3), Seasonal Order: (0, 0, 1, 12)\n",
            "                                      SARIMAX Results                                       \n",
            "============================================================================================\n",
            "Dep. Variable:                               DENGUE   No. Observations:                  134\n",
            "Model:             SARIMAX(2, 1, 3)x(0, 0, [1], 12)   Log Likelihood                -885.407\n",
            "Date:                              Fri, 05 Jul 2024   AIC                           1784.814\n",
            "Time:                                      14:47:38   BIC                           1805.047\n",
            "Sample:                                           0   HQIC                          1793.036\n",
            "                                              - 134                                         \n",
            "Covariance Type:                                opg                                         \n",
            "==============================================================================\n",
            "                 coef    std err          z      P>|z|      [0.025      0.975]\n",
            "------------------------------------------------------------------------------\n",
            "ar.L1          1.0480      0.445      2.354      0.019       0.175       1.921\n",
            "ar.L2         -0.4749      0.373     -1.273      0.203      -1.206       0.256\n",
            "ma.L1         -0.6140      0.475     -1.294      0.196      -1.544       0.316\n",
            "ma.L2         -0.0759      0.231     -0.328      0.743      -0.529       0.377\n",
            "ma.L3         -0.2368      0.324     -0.731      0.465      -0.871       0.398\n",
            "ma.S.L12       0.0604      0.149      0.407      0.684      -0.231       0.352\n",
            "sigma2      3.494e+04   1967.239     17.762      0.000    3.11e+04    3.88e+04\n",
            "===================================================================================\n",
            "Ljung-Box (L1) (Q):                   0.05   Jarque-Bera (JB):               998.19\n",
            "Prob(Q):                              0.83   Prob(JB):                         0.00\n",
            "Heteroskedasticity (H):               4.96   Skew:                             1.57\n",
            "Prob(H) (two-sided):                  0.00   Kurtosis:                        16.05\n",
            "===================================================================================\n",
            "\n",
            "Warnings:\n",
            "[1] Covariance matrix calculated using the outer product of gradients (complex-step).\n",
            "Order: (2, 1, 3), Seasonal Order: (1, 0, 1, 12)\n",
            "                                      SARIMAX Results                                       \n",
            "============================================================================================\n",
            "Dep. Variable:                               DENGUE   No. Observations:                  134\n",
            "Model:             SARIMAX(2, 1, 3)x(1, 0, [1], 12)   Log Likelihood                -879.913\n",
            "Date:                              Fri, 05 Jul 2024   AIC                           1775.827\n",
            "Time:                                      14:47:39   BIC                           1798.950\n",
            "Sample:                                           0   HQIC                          1785.223\n",
            "                                              - 134                                         \n",
            "Covariance Type:                                opg                                         \n",
            "==============================================================================\n",
            "                 coef    std err          z      P>|z|      [0.025      0.975]\n",
            "------------------------------------------------------------------------------\n",
            "ar.L1          0.9434      0.617      1.530      0.126      -0.265       2.152\n",
            "ar.L2         -0.3782      0.480     -0.789      0.430      -1.318       0.562\n",
            "ma.L1         -0.6117      0.643     -0.952      0.341      -1.871       0.648\n",
            "ma.L2         -0.0862      0.333     -0.259      0.796      -0.739       0.567\n",
            "ma.L3         -0.2467      0.368     -0.670      0.503      -0.969       0.475\n",
            "ar.S.L12       0.8889      0.109      8.141      0.000       0.675       1.103\n",
            "ma.S.L12      -0.6734      0.196     -3.440      0.001      -1.057      -0.290\n",
            "sigma2      3.134e+04   2007.036     15.614      0.000    2.74e+04    3.53e+04\n",
            "===================================================================================\n",
            "Ljung-Box (L1) (Q):                   0.03   Jarque-Bera (JB):              1575.15\n",
            "Prob(Q):                              0.87   Prob(JB):                         0.00\n",
            "Heteroskedasticity (H):               6.17   Skew:                             2.20\n",
            "Prob(H) (two-sided):                  0.00   Kurtosis:                        19.28\n",
            "===================================================================================\n",
            "\n",
            "Warnings:\n",
            "[1] Covariance matrix calculated using the outer product of gradients (complex-step).\n",
            "Order: (2, 1, 3), Seasonal Order: (1, 0, 2, 12)\n",
            "                                        SARIMAX Results                                        \n",
            "===============================================================================================\n",
            "Dep. Variable:                                  DENGUE   No. Observations:                  134\n",
            "Model:             SARIMAX(2, 1, 3)x(1, 0, [1, 2], 12)   Log Likelihood                -873.888\n",
            "Date:                                 Fri, 05 Jul 2024   AIC                           1765.775\n",
            "Time:                                         14:47:42   BIC                           1791.789\n",
            "Sample:                                              0   HQIC                          1776.346\n",
            "                                                 - 134                                         \n",
            "Covariance Type:                                   opg                                         \n",
            "==============================================================================\n",
            "                 coef    std err          z      P>|z|      [0.025      0.975]\n",
            "------------------------------------------------------------------------------\n",
            "ar.L1          1.0248      0.577      1.775      0.076      -0.107       2.157\n",
            "ar.L2         -0.4449      0.450     -0.988      0.323      -1.328       0.438\n",
            "ma.L1         -0.7526      0.596     -1.262      0.207      -1.921       0.416\n",
            "ma.L2         -0.0361      0.393     -0.092      0.927      -0.806       0.734\n",
            "ma.L3         -0.1543      0.365     -0.423      0.672      -0.869       0.561\n",
            "ar.S.L12       0.8366      0.186      4.493      0.000       0.472       1.202\n",
            "ma.S.L12      -0.9013      0.209     -4.303      0.000      -1.312      -0.491\n",
            "ma.S.L24       0.4645      0.093      4.980      0.000       0.282       0.647\n",
            "sigma2      2.686e+04   2580.461     10.410      0.000    2.18e+04    3.19e+04\n",
            "===================================================================================\n",
            "Ljung-Box (L1) (Q):                   0.04   Jarque-Bera (JB):              2075.14\n",
            "Prob(Q):                              0.85   Prob(JB):                         0.00\n",
            "Heteroskedasticity (H):               6.49   Skew:                             2.65\n",
            "Prob(H) (two-sided):                  0.00   Kurtosis:                        21.61\n",
            "===================================================================================\n",
            "\n",
            "Warnings:\n",
            "[1] Covariance matrix calculated using the outer product of gradients (complex-step).\n",
            "Order: (3, 1, 4), Seasonal Order: (0, 0, 1, 12)\n",
            "                                      SARIMAX Results                                       \n",
            "============================================================================================\n",
            "Dep. Variable:                               DENGUE   No. Observations:                  134\n",
            "Model:             SARIMAX(3, 1, 4)x(0, 0, [1], 12)   Log Likelihood                -882.292\n",
            "Date:                              Fri, 05 Jul 2024   AIC                           1782.584\n",
            "Time:                                      14:47:43   BIC                           1808.597\n",
            "Sample:                                           0   HQIC                          1793.155\n",
            "                                              - 134                                         \n",
            "Covariance Type:                                opg                                         \n",
            "==============================================================================\n",
            "                 coef    std err          z      P>|z|      [0.025      0.975]\n",
            "------------------------------------------------------------------------------\n",
            "ar.L1          1.8097      0.669      2.706      0.007       0.499       3.121\n",
            "ar.L2         -1.1269      1.151     -0.979      0.327      -3.382       1.129\n",
            "ar.L3          0.2510      0.591      0.425      0.671      -0.908       1.409\n",
            "ma.L1         -1.4544      0.853     -1.705      0.088      -3.127       0.218\n",
            "ma.L2          0.2844      1.031      0.276      0.783      -1.737       2.306\n",
            "ma.L3         -0.1505      0.261     -0.577      0.564      -0.661       0.360\n",
            "ma.L4          0.3373      0.360      0.937      0.349      -0.369       1.043\n",
            "ma.S.L12       0.0518      0.185      0.280      0.780      -0.311       0.415\n",
            "sigma2      3.615e+04   1.05e+04      3.452      0.001    1.56e+04    5.67e+04\n",
            "===================================================================================\n",
            "Ljung-Box (L1) (Q):                   0.01   Jarque-Bera (JB):               877.71\n",
            "Prob(Q):                              0.90   Prob(JB):                         0.00\n",
            "Heteroskedasticity (H):               4.95   Skew:                             1.44\n",
            "Prob(H) (two-sided):                  0.00   Kurtosis:                        15.25\n",
            "===================================================================================\n",
            "\n",
            "Warnings:\n",
            "[1] Covariance matrix calculated using the outer product of gradients (complex-step).\n",
            "Order: (3, 1, 4), Seasonal Order: (1, 0, 1, 12)\n",
            "                                      SARIMAX Results                                       \n",
            "============================================================================================\n",
            "Dep. Variable:                               DENGUE   No. Observations:                  134\n",
            "Model:             SARIMAX(3, 1, 4)x(1, 0, [1], 12)   Log Likelihood                -877.822\n",
            "Date:                              Fri, 05 Jul 2024   AIC                           1775.644\n",
            "Time:                                      14:47:45   BIC                           1804.547\n",
            "Sample:                                           0   HQIC                          1787.389\n",
            "                                              - 134                                         \n",
            "Covariance Type:                                opg                                         \n",
            "==============================================================================\n",
            "                 coef    std err          z      P>|z|      [0.025      0.975]\n",
            "------------------------------------------------------------------------------\n",
            "ar.L1          1.7210      0.982      1.753      0.080      -0.203       3.645\n",
            "ar.L2         -0.9631      1.643     -0.586      0.558      -4.183       2.257\n",
            "ar.L3          0.1797      0.833      0.216      0.829      -1.452       1.811\n",
            "ma.L1         -1.4393      1.053     -1.367      0.172      -3.503       0.625\n",
            "ma.L2          0.2654      1.443      0.184      0.854      -2.564       3.095\n",
            "ma.L3         -0.1359      0.330     -0.412      0.680      -0.782       0.510\n",
            "ma.L4          0.3223      0.384      0.838      0.402      -0.431       1.076\n",
            "ar.S.L12       0.8688      0.156      5.571      0.000       0.563       1.174\n",
            "ma.S.L12      -0.6649      0.256     -2.595      0.009      -1.167      -0.163\n",
            "sigma2      3.251e+04   4325.143      7.516      0.000     2.4e+04     4.1e+04\n",
            "===================================================================================\n",
            "Ljung-Box (L1) (Q):                   0.01   Jarque-Bera (JB):              1381.47\n",
            "Prob(Q):                              0.91   Prob(JB):                         0.00\n",
            "Heteroskedasticity (H):               6.00   Skew:                             2.05\n",
            "Prob(H) (two-sided):                  0.00   Kurtosis:                        18.25\n",
            "===================================================================================\n",
            "\n",
            "Warnings:\n",
            "[1] Covariance matrix calculated using the outer product of gradients (complex-step).\n",
            "Order: (3, 1, 4), Seasonal Order: (1, 0, 2, 12)\n",
            "                                        SARIMAX Results                                        \n",
            "===============================================================================================\n",
            "Dep. Variable:                                  DENGUE   No. Observations:                  134\n",
            "Model:             SARIMAX(3, 1, 4)x(1, 0, [1, 2], 12)   Log Likelihood                -873.734\n",
            "Date:                                 Fri, 05 Jul 2024   AIC                           1769.467\n",
            "Time:                                         14:47:50   BIC                           1801.261\n",
            "Sample:                                              0   HQIC                          1782.387\n",
            "                                                 - 134                                         \n",
            "Covariance Type:                                   opg                                         \n",
            "==============================================================================\n",
            "                 coef    std err          z      P>|z|      [0.025      0.975]\n",
            "------------------------------------------------------------------------------\n",
            "ar.L1          1.8790      0.961      1.954      0.051      -0.005       3.763\n",
            "ar.L2         -1.2275      1.511     -0.812      0.417      -4.189       1.735\n",
            "ar.L3          0.3330      0.664      0.502      0.616      -0.968       1.634\n",
            "ma.L1         -1.6250      1.100     -1.477      0.140      -3.781       0.532\n",
            "ma.L2          0.5055      1.368      0.370      0.712      -2.175       3.186\n",
            "ma.L3         -0.0990      0.504     -0.196      0.844      -1.086       0.889\n",
            "ma.L4          0.2220      0.434      0.512      0.609      -0.628       1.072\n",
            "ar.S.L12       0.8092      0.237      3.419      0.001       0.345       1.273\n",
            "ma.S.L12      -0.8296      0.255     -3.248      0.001      -1.330      -0.329\n",
            "ma.S.L24       0.4090      0.138      2.966      0.003       0.139       0.679\n",
            "sigma2      2.868e+04   7351.639      3.901      0.000    1.43e+04    4.31e+04\n",
            "===================================================================================\n",
            "Ljung-Box (L1) (Q):                   0.02   Jarque-Bera (JB):              2168.72\n",
            "Prob(Q):                              0.88   Prob(JB):                         0.00\n",
            "Heteroskedasticity (H):               6.33   Skew:                             2.70\n",
            "Prob(H) (two-sided):                  0.00   Kurtosis:                        22.03\n",
            "===================================================================================\n",
            "\n",
            "Warnings:\n",
            "[1] Covariance matrix calculated using the outer product of gradients (complex-step).\n"
          ]
        }
      ]
    },
    {
      "cell_type": "code",
      "source": [
        "import pandas as pd\n",
        "from statsmodels.tsa.statespace.sarimax import SARIMAX\n",
        "from sklearn.metrics import mean_absolute_error, mean_absolute_percentage_error, mean_squared_error\n",
        "\n",
        "# Load the data\n",
        "df = pd.read_csv('/content/DengueAndClimateBangladesh.csv')\n",
        "\n",
        "# Define the SARIMAX model orders and seasonal orders to try\n",
        "orders = [(1, 1, 2), (2, 1, 3), (3, 1, 4)]\n",
        "seasonal_orders = [(0, 0, 1, 12), (1, 0, 1, 12), (1, 0, 2, 12)]\n",
        "\n",
        "# Iterate over the different orders and seasonal orders\n",
        "for order in orders:\n",
        "    for seasonal_order in seasonal_orders:\n",
        "        # Define the model with the current order and seasonal order\n",
        "        model = SARIMAX(df['DENGUE'], order=order, seasonal_order=seasonal_order)\n",
        "\n",
        "        # Fit the model\n",
        "        results = model.fit()\n",
        "\n",
        "        # Make predictions on the entire dataset\n",
        "        predictions = results.predict(start=0, end=len(df) - 1)\n",
        "\n",
        "        # Calculate the performance metrics\n",
        "        mae = mean_absolute_error(df['DENGUE'], predictions)\n",
        "        mape = mean_absolute_percentage_error(df['DENGUE'], predictions)\n",
        "        rmse = mean_squared_error(df['DENGUE'], predictions, squared=False)  # Set squared=False for RMSE\n",
        "\n",
        "        # Print the results\n",
        "        print(f'Order: {order}, Seasonal Order: {seasonal_order}')\n",
        "        print(f'MAE: {mae}')\n",
        "        print(f'MAPE: {mape}')\n",
        "        print(f'RMSE: {rmse}')\n",
        "        print('---')"
      ],
      "metadata": {
        "colab": {
          "base_uri": "https://localhost:8080/"
        },
        "id": "8TjkT72Ak_nQ",
        "outputId": "9b50603d-37bd-4453-beb1-6c9c512a0a2b"
      },
      "execution_count": null,
      "outputs": [
        {
          "output_type": "stream",
          "name": "stdout",
          "text": [
            "Order: (1, 1, 2), Seasonal Order: (0, 0, 1, 12)\n",
            "MAE: 104.79120306577241\n",
            "MAPE: 2.67194363012644e+16\n",
            "RMSE: 207.04013902167193\n",
            "---\n",
            "Order: (1, 1, 2), Seasonal Order: (1, 0, 1, 12)\n",
            "MAE: 93.69498334427719\n",
            "MAPE: 1.791407280291762e+16\n",
            "RMSE: 188.90309771920758\n",
            "---\n",
            "Order: (1, 1, 2), Seasonal Order: (1, 0, 2, 12)\n",
            "MAE: 85.67009738073934\n",
            "MAPE: 1.7037370095842608e+16\n",
            "RMSE: 172.7322382016312\n",
            "---\n",
            "Order: (2, 1, 3), Seasonal Order: (0, 0, 1, 12)\n",
            "MAE: 94.12456108386657\n",
            "MAPE: 2.4002921506408676e+16\n",
            "RMSE: 186.4392193596679\n",
            "---\n",
            "Order: (2, 1, 3), Seasonal Order: (1, 0, 1, 12)\n",
            "MAE: 87.47549349926277\n",
            "MAPE: 1.8928168729113984e+16\n",
            "RMSE: 177.32024466498882\n",
            "---\n",
            "Order: (2, 1, 3), Seasonal Order: (1, 0, 2, 12)\n",
            "MAE: 82.13269109739878\n",
            "MAPE: 1.828041025162978e+16\n",
            "RMSE: 165.19467902374248\n",
            "---\n",
            "Order: (3, 1, 4), Seasonal Order: (0, 0, 1, 12)\n",
            "MAE: 95.10029353557768\n",
            "MAPE: 2.598696742123902e+16\n",
            "RMSE: 180.4685124784991\n",
            "---\n",
            "Order: (3, 1, 4), Seasonal Order: (1, 0, 1, 12)\n",
            "MAE: 89.83576194610536\n",
            "MAPE: 2.253452478446985e+16\n",
            "RMSE: 173.6301652433366\n",
            "---\n",
            "Order: (3, 1, 4), Seasonal Order: (1, 0, 2, 12)\n",
            "MAE: 81.67532726931329\n",
            "MAPE: 1.8416673576556924e+16\n",
            "RMSE: 165.25974383091892\n",
            "---\n"
          ]
        }
      ]
    },
    {
      "cell_type": "code",
      "source": [
        "# Fit the SARIMAX model to the entire dataset\n",
        "model = SARIMAX(df['DENGUE'], order=(3, 1, 4), seasonal_order=(1, 0, 2, 12))\n",
        "result = model.fit()\n",
        "\n",
        "# Forecast for the next 12 months (2024)\n",
        "forecast = result.get_forecast(steps=12)\n",
        "\n",
        "# Extract the predicted mean values and confidence intervals\n",
        "predicted_mean = forecast.predicted_mean\n",
        "confidence_intervals = forecast.conf_int()\n",
        "\n",
        "# Print the forecasted values\n",
        "print(predicted_mean)\n",
        "print(confidence_intervals)"
      ],
      "metadata": {
        "id": "cdjs-a86_HM6",
        "colab": {
          "base_uri": "https://localhost:8080/"
        },
        "outputId": "261fff59-c2d3-4d1d-e5bd-6a6f6800d2ea"
      },
      "execution_count": null,
      "outputs": [
        {
          "output_type": "stream",
          "name": "stdout",
          "text": [
            "134     127.764013\n",
            "135     264.785568\n",
            "136     383.971957\n",
            "137     533.757800\n",
            "138     764.458107\n",
            "139    1005.384481\n",
            "140    1061.983967\n",
            "141     942.651816\n",
            "142     705.769791\n",
            "143     489.178128\n",
            "144     443.023751\n",
            "145     433.057123\n",
            "Name: predicted_mean, dtype: float64\n",
            "     lower DENGUE  upper DENGUE\n",
            "134   -204.607893    460.135919\n",
            "135   -268.993035    798.564171\n",
            "136   -247.494965   1015.438878\n",
            "137   -117.515455   1185.031054\n",
            "138    112.743699   1416.172515\n",
            "139    352.888509   1657.880453\n",
            "140    408.296643   1715.671290\n",
            "141    288.530038   1596.773594\n",
            "142     51.641699   1359.897883\n",
            "143   -164.936658   1143.292914\n",
            "144   -211.149900   1097.197401\n",
            "145   -221.218297   1087.332543\n"
          ]
        }
      ]
    },
    {
      "cell_type": "code",
      "source": [
        "from statsmodels.tsa.statespace.sarimax import SARIMAX\n",
        "import statsmodels.api as sm\n",
        "\n",
        "# Fit the SARIMAX model\n",
        "model = SARIMAX(df['DENGUE'], order=(3, 1, 4), seasonal_order=(1, 0, 2, 12))\n",
        "result = model.fit()\n",
        "\n",
        "# Get the p-values for the AR and MA coefficients\n",
        "p_values = result.pvalues[1:]  # Exclude the constant term\n",
        "\n",
        "# Print the p-values\n",
        "for i, p_value in enumerate(p_values):\n",
        "    print(f\"Coefficient {i+1} p-value: {p_value}\")"
      ],
      "metadata": {
        "colab": {
          "base_uri": "https://localhost:8080/"
        },
        "id": "AKOj2QztDEeJ",
        "outputId": "ae8246da-fe31-471c-bb43-372a16ecf248"
      },
      "execution_count": null,
      "outputs": [
        {
          "output_type": "stream",
          "name": "stdout",
          "text": [
            "Coefficient 1 p-value: 0.4166694065629911\n",
            "Coefficient 2 p-value: 0.6158897060082701\n",
            "Coefficient 3 p-value: 0.13970591007346483\n",
            "Coefficient 4 p-value: 0.7116889914707645\n",
            "Coefficient 5 p-value: 0.8442648506337432\n",
            "Coefficient 6 p-value: 0.6086872090632933\n",
            "Coefficient 7 p-value: 0.0006294140182101488\n",
            "Coefficient 8 p-value: 0.0011629473512625586\n",
            "Coefficient 9 p-value: 0.0030178245594582463\n",
            "Coefficient 10 p-value: 9.576249092183019e-05\n"
          ]
        }
      ]
    },
    {
      "cell_type": "code",
      "source": [
        "# Fit the SARIMAX model to the entire dataset\n",
        "model = SARIMAX(df['DENGUE'], order=(3, 1, 4), seasonal_order=(1, 0, 2, 12))\n",
        "result = model.fit()\n",
        "\n",
        "# Forecast for the next 12 months (2024)\n",
        "forecast = result.get_forecast(steps=12)\n",
        "\n",
        "# Extract the predicted mean values\n",
        "predicted_mean = forecast.predicted_mean\n",
        "\n",
        "# Calculate the overall trend\n",
        "trend = predicted_mean.mean() - df['DENGUE'].iloc[-1]\n",
        "\n",
        "# Print the trend\n",
        "if trend > 0:\n",
        "    print(f\"The model predicts a rise in dengue fever cases during 2024 with an average increase of {trend:.2f} cases.\")\n",
        "elif trend < 0:\n",
        "    print(f\"The model predicts a decrease in dengue fever cases during 2024 with an average decrease of {trend:.2f} cases.\")\n",
        "else:\n",
        "    print(\"The model predicts no significant change in dengue fever cases during 2024.\")"
      ],
      "metadata": {
        "colab": {
          "base_uri": "https://localhost:8080/"
        },
        "id": "X1mDUS7ODFMU",
        "outputId": "eaecf180-67db-49bf-8979-11fba951e1c3"
      },
      "execution_count": null,
      "outputs": [
        {
          "output_type": "stream",
          "name": "stdout",
          "text": [
            "The model predicts a rise in dengue fever cases during 2024 with an average increase of 578.32 cases.\n"
          ]
        }
      ]
    },
    {
      "cell_type": "code",
      "source": [
        "# Fit the SARIMAX model to the training data\n",
        "model = SARIMAX(df['DENGUE'], order=(3, 1, 4), seasonal_order=(1, 0, 2, 12))\n",
        "result = model.fit()\n",
        "\n",
        "# Predict the values for 2024 (assuming data ends in 2023)\n",
        "forecast = result.get_forecast(steps=12)\n",
        "forecast_mean = forecast.predicted_mean\n",
        "\n",
        "# Create a date range for 2024\n",
        "dates = pd.date_range(start='2024-01-01', end='2024-12-31', freq='MS')\n",
        "\n",
        "# Plot the forecast\n",
        "plt.plot(dates, forecast_mean, label='Forecast')\n",
        "plt.xlabel('Date')\n",
        "plt.ylabel('Dengue Cases')\n",
        "plt.title('Dengue Cases Forecast for 2024')\n",
        "plt.xticks(dates, [date.strftime('%b') for date in dates], rotation=45)  # Format x-axis labels as month abbreviations\n",
        "plt.legend()\n",
        "plt.show()"
      ],
      "metadata": {
        "colab": {
          "base_uri": "https://localhost:8080/",
          "height": 488
        },
        "id": "y88bpjyBGfB5",
        "outputId": "ec74d720-52cd-4516-eace-1688bb742502"
      },
      "execution_count": null,
      "outputs": [
        {
          "output_type": "display_data",
          "data": {
            "text/plain": [
              "<Figure size 640x480 with 1 Axes>"
            ],
            "image/png": "[encoded data removed]"
          },
          "metadata": {}
        }
      ]
    },
    {
      "cell_type": "code",
      "source": [
        "# Find the highest predicted dengue case\n",
        "highest_case = forecast_mean.max()\n",
        "print(highest_case)"
      ],
      "metadata": {
        "colab": {
          "base_uri": "https://localhost:8080/"
        },
        "id": "Ma7iW79pGxiL",
        "outputId": "3ed8a79f-8ce8-439a-9141-f71b3ae4bb77"
      },
      "execution_count": null,
      "outputs": [
        {
          "output_type": "stream",
          "name": "stdout",
          "text": [
            "1061.9839666598627\n"
          ]
        }
      ]
    },
    {
      "cell_type": "code",
      "source": [],
      "metadata": {
        "id": "R2-Qda5EHPuL"
      },
      "execution_count": null,
      "outputs": []
    }
  ]
}